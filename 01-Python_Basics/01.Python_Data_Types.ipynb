{
    "metadata": {
        "kernelspec": {
            "name": "python3",
            "display_name": "Python 3"
        },
        "language_info": {
            "name": "python",
            "version": "3.7.4",
            "mimetype": "text/x-python",
            "codemirror_mode": {
                "name": "ipython",
                "version": 3
            },
            "pygments_lexer": "ipython3",
            "nbconvert_exporter": "python",
            "file_extension": ".py"
        }
    },
    "nbformat_minor": 2,
    "nbformat": 4,
    "cells": [
        {
            "cell_type": "markdown",
            "source": [
                "# Python\r\n",
                "## Print Strings and comments\r\n",
                "print(\"\") is a function to print text\\\r\n",
                "\\n - line break \\\r\n",
                "\\# comment"
            ],
            "metadata": {
                "azdata_cell_guid": "9e4c9415-cc5c-4e58-b4c4-c43ed8c31dcf"
            }
        },
        {
            "cell_type": "code",
            "source": [
                "# This is a comment\r\n",
                "print('Hello python 101')\r\n",
                "print(\"line1\\nline2\")"
            ],
            "metadata": {
                "azdata_cell_guid": "2f98ee25-eee1-4a75-86ba-c23ec9b80321"
            },
            "outputs": [
                {
                    "name": "stdout",
                    "text": "Hello python 101\nline1\nline2\n",
                    "output_type": "stream"
                }
            ],
            "execution_count": 1
        },
        {
            "cell_type": "markdown",
            "source": [
                "## Data types\r\n",
                "A type is how to represent different types of data.\r\n",
                "\r\n",
                "| Name | Data type |\r\n",
                "| :-: | :-: |\r\n",
                "| Integers | int |\r\n",
                "| Real | float |\r\n",
                "| String | str |\r\n",
                "| Boolean | bool |\r\n",
                ""
            ],
            "metadata": {
                "azdata_cell_guid": "89bc3611-30aa-436e-a25b-d8bd2a0e9331"
            }
        },
        {
            "cell_type": "markdown",
            "source": [
                "## Convert data types\r\n",
                "\r\n",
                "### To convert a int to a float number\r\n",
                "```python\r\n",
                "num_int = 2\r\n",
                "float(num_int)\r\n",
                "```\r\n",
                "\r\n",
                "### To convert a float to a int number\r\n",
                "```python\r\n",
                "num_float = 1.1\r\n",
                "int(num_float)\r\n",
                "```\r\n",
                "\r\n",
                "### To convert a string to int number\r\n",
                "```python\r\n",
                "num_string = '1'\r\n",
                "int(num_string)\r\n",
                "```\r\n",
                "\r\n",
                "### To convert a float to a string\r\n",
                "```python\r\n",
                "str(num_float)\r\n",
                "```\r\n",
                "\r\n",
                "### To convert a int to a string\r\n",
                "```python\r\n",
                "str(num_int)\r\n",
                "```"
            ],
            "metadata": {
                "azdata_cell_guid": "2ac968b3-fe21-4e53-b7d6-e15fc89da84d"
            }
        },
        {
            "cell_type": "code",
            "source": [
                "num_int = 2\r\n",
                "print(float(num_int))\r\n",
                "\r\n",
                "num_float = 1.1\r\n",
                "print(int(num_float))\r\n",
                "\r\n",
                "num_string = '1'\r\n",
                "print(int(num_string))\r\n",
                "\r\n",
                "print(str(num_float))\r\n",
                "\r\n",
                "print(str(num_int))"
            ],
            "metadata": {
                "azdata_cell_guid": "35c86313-2678-4ade-92fa-7203fe00d080",
                "tags": []
            },
            "outputs": [
                {
                    "name": "stdout",
                    "text": "2.0\n1\n1\n1.1\n2\n",
                    "output_type": "stream"
                }
            ],
            "execution_count": 2
        },
        {
            "cell_type": "markdown",
            "source": [
                "## Get data type from a variable\r\n",
                "To get data type use type() function.\r\n",
                "\r\n",
                "```python\r\n",
                "type(True)\r\n",
                "```"
            ],
            "metadata": {
                "azdata_cell_guid": "22da3463-362d-4ade-8dbc-b3443ab52f3f"
            }
        },
        {
            "cell_type": "code",
            "source": [
                "print(type(True))\r\n",
                "print(type(1))\r\n",
                "print(type(1.1))\r\n",
                "print(type('A'))\r\n",
                "print(type(\"Hola\"))"
            ],
            "metadata": {
                "azdata_cell_guid": "a6973ef3-3b0d-44e6-b96d-0a0b53845487"
            },
            "outputs": [
                {
                    "name": "stdout",
                    "text": "<class 'bool'>\n<class 'int'>\n<class 'float'>\n<class 'str'>\n<class 'str'>\n",
                    "output_type": "stream"
                }
            ],
            "execution_count": 3
        },
        {
            "cell_type": "markdown",
            "source": [
                "## Cast boolean values\r\n",
                "To cast boolean to int\r\n",
                "```python\r\n",
                "int(True)\r\n",
                "# It returns 1\r\n",
                "```\r\n",
                "\r\n",
                "```python\r\n",
                "int(False)\r\n",
                "# It returns 0\r\n",
                "```\r\n",
                "\r\n",
                "To cast int to boolean\r\n",
                "```python\r\n",
                "bool(1)\r\n",
                "# It returns True\r\n",
                "```\r\n",
                "\r\n",
                "```python\r\n",
                "bool(0)\r\n",
                "# It returns False\r\n",
                "```"
            ],
            "metadata": {
                "azdata_cell_guid": "c9c80ff4-0214-403d-a953-27317bd739e5"
            }
        },
        {
            "cell_type": "code",
            "source": [
                "print(int(True))\r\n",
                "print(int(False))\r\n",
                "print(bool(1))\r\n",
                "print(bool(0))"
            ],
            "metadata": {
                "azdata_cell_guid": "1c1bdd83-9692-4efa-9c85-30ff8a37627d"
            },
            "outputs": [
                {
                    "name": "stdout",
                    "text": "1\n0\nTrue\nFalse\n",
                    "output_type": "stream"
                }
            ],
            "execution_count": 4
        }
    ]
}