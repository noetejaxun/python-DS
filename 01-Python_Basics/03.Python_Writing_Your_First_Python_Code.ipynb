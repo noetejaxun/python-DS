{
    "metadata": {
        "kernelspec": {
            "name": "python3",
            "display_name": "Python 3"
        },
        "language_info": {
            "name": "python",
            "version": "3.7.4",
            "mimetype": "text/x-python",
            "codemirror_mode": {
                "name": "ipython",
                "version": 3
            },
            "pygments_lexer": "ipython3",
            "nbconvert_exporter": "python",
            "file_extension": ".py"
        }
    },
    "nbformat_minor": 2,
    "nbformat": 4,
    "cells": [
        {
            "cell_type": "markdown",
            "source": [
                "<h1>Python - Writing Your First Python Code!</h1>"
            ],
            "metadata": {
                "azdata_cell_guid": "4e66fde6-77c6-4e39-8cf5-af1c367327e1"
            }
        },
        {
            "cell_type": "markdown",
            "source": [
                "<p><strong>Welcome!</strong> This notebook will teach you the basics of the Python programming language. Although the information presented here is quite basic, it is an important foundation that will help you read and write Python code. By the end of this notebook, you'll know the basics of Python, including how to write basic commands, understand some basic types, and how to perform simple operations on them.</p> "
            ],
            "metadata": {
                "azdata_cell_guid": "753815b0-866c-481d-a087-805d924c4039"
            }
        },
        {
            "cell_type": "markdown",
            "source": [
                "<h2>Table of Contents</h2>\n",
                "<div class=\"alert alert-block alert-info\" style=\"margin-top: 20px\">\n",
                "    <ul>\n",
                "        <li>\n",
                "            <a href=\"#hello\">Say \"Hello\" to the world in Python</a>\n",
                "            <ul>\n",
                "                <li><a href=\"version\">What version of Python are we using?</a></li>\n",
                "                <li><a href=\"comments\">Writing comments in Python</a></li>\n",
                "                <li><a href=\"errors\">Errors in Python</a></li>\n",
                "                <li><a href=\"python_error\">Does Python know about your error before it runs your code?</a></li>\n",
                "                <li><a href=\"exercise\">Exercise: Your First Program</a></li>\n",
                "            </ul>\n",
                "        </li>\n",
                "        <li>\n",
                "            <a href=\"#types_objects\">Types of objects in Python</a>\n",
                "            <ul>\n",
                "                <li><a href=\"int\">Integers</a></li>\n",
                "                <li><a href=\"float\">Floats</a></li>\n",
                "                <li><a href=\"convert\">Converting from one object type to a different object type</a></li>\n",
                "                <li><a href=\"bool\">Boolean data type</a></li>\n",
                "                <li><a href=\"exer_type\">Exercise: Types</a></li>\n",
                "            </ul>\n",
                "        </li>\n",
                "        <li>\n",
                "            <a href=\"#expressions\">Expressions and Variables</a>\n",
                "            <ul>\n",
                "                <li><a href=\"exp\">Expressions</a></li>\n",
                "                <li><a href=\"exer_exp\">Exercise: Expressions</a></li>\n",
                "                <li><a href=\"var\">Variables</a></li>\n",
                "                <li><a href=\"exer_exp_var\">Exercise: Expression and Variables in Python</a></li>\n",
                "            </ul>\n",
                "        </li>\n",
                "    </ul>\n",
                "    <p>\n",
                "        Estimated time needed: <strong>25 min</strong>\n",
                "    </p>\n",
                "</div>\n",
                "\n",
                "<hr>"
            ],
            "metadata": {
                "azdata_cell_guid": "15d32042-3bfe-4d66-a292-b6afb77f713a"
            }
        },
        {
            "cell_type": "markdown",
            "source": [
                "<h2 id=\"hello\">Say \"Hello\" to the world in Python</h2>"
            ],
            "metadata": {
                "azdata_cell_guid": "cc6c0555-cc19-46ea-9da5-f28b0d7229a6"
            }
        },
        {
            "cell_type": "markdown",
            "source": [
                "When learning a new programming language, it is customary to start with an \"hello world\" example. As simple as it is, this one line of code will ensure that we know how to print a string in output and how to execute code within cells in a notebook."
            ],
            "metadata": {
                "azdata_cell_guid": "8760347e-94ba-4418-b9ad-bebf20290e9d"
            }
        },
        {
            "cell_type": "markdown",
            "source": [
                "<hr/>\n",
                "<div class=\"alert alert-success alertsuccess\" style=\"margin-top: 20px\">\n",
                "[Tip]: To execute the Python code in the code cell below, click on the cell to select it and press <kbd>Shift</kbd> + <kbd>Enter</kbd>.\n",
                "</div>\n",
                "<hr/>"
            ],
            "metadata": {
                "azdata_cell_guid": "8c1cca0d-5fa6-4713-aa7a-bc14930539e6"
            }
        },
        {
            "cell_type": "code",
            "source": [
                "# Try your first Python output\n",
                "\n",
                "print('Hello, Python!')"
            ],
            "metadata": {
                "azdata_cell_guid": "ec78ee96-32bd-4204-a1dc-02469bea0ce0"
            },
            "outputs": [
                {
                    "name": "stdout",
                    "text": "Hello, Python!\n",
                    "output_type": "stream"
                }
            ],
            "execution_count": 2
        },
        {
            "cell_type": "markdown",
            "source": [
                "After executing the cell above, you should see that Python prints <code>Hello, Python!</code>. Congratulations on running your first Python code!"
            ],
            "metadata": {
                "azdata_cell_guid": "9a54c4cc-9813-4722-96f9-8bf35aa7b038"
            }
        },
        {
            "cell_type": "markdown",
            "source": [
                "<hr/>\n",
                "<div class=\"alert alert-success alertsuccess\" style=\"margin-top: 20px\">\n",
                "    [Tip:] <code>print()</code> is a function. You passed the string <code>'Hello, Python!'</code> as an argument to instruct Python on what to print.\n",
                "</div>\n",
                "<hr/>"
            ],
            "metadata": {
                "azdata_cell_guid": "0ad17ad6-cefe-4b80-be9c-93e02871aa4b"
            }
        },
        {
            "cell_type": "markdown",
            "source": [
                "<h3 id=\"version\">What version of Python are we using?</h3>"
            ],
            "metadata": {
                "azdata_cell_guid": "c909dd9b-18d4-4fcd-b4d4-d2ae39127592"
            }
        },
        {
            "cell_type": "markdown",
            "source": [
                "<p>\n",
                "    There are two popular versions of the Python programming language in use today: Python 2 and Python 3. The Python community has decided to move on from Python 2 to Python 3, and many popular libraries have announced that they will no longer support Python 2.\n",
                "</p>\n",
                "<p>\n",
                "    Since Python 3 is the future, in this course we will be using it exclusively. How do we know that our notebook is executed by a Python 3 runtime? We can look in the top-right hand corner of this notebook and see \"Python 3\".\n",
                "</p>\n",
                "<p>\n",
                "    We can also ask directly Python and obtain a detailed answer. Try executing the following code:\n",
                "</p>"
            ],
            "metadata": {
                "azdata_cell_guid": "2d0de0f7-45bc-4c99-978a-d5e9bc1f1322"
            }
        },
        {
            "cell_type": "code",
            "source": [
                "# Check the Python Version\n",
                "\n",
                "import sys\n",
                "print(sys.version)"
            ],
            "metadata": {
                "azdata_cell_guid": "f8d7a44d-2649-4901-82c4-c73dfdb2b165"
            },
            "outputs": [
                {
                    "name": "stdout",
                    "text": "3.7.4 (default, Aug  9 2019, 18:34:13) [MSC v.1915 64 bit (AMD64)]\n",
                    "output_type": "stream"
                }
            ],
            "execution_count": 5
        },
        {
            "cell_type": "markdown",
            "source": [
                "<hr/>\n",
                "<div class=\"alert alert-success alertsuccess\" style=\"margin-top: 20px\">\n",
                "    [Tip:] <code>sys</code> is a built-in module that contains many system-specific parameters and functions, including the Python version in use. Before using it, we must explictly <code>import</code> it.\n",
                "</div>\n",
                "<hr/>"
            ],
            "metadata": {
                "azdata_cell_guid": "b4370a42-a180-4861-a40f-47ce4e44048a"
            }
        },
        {
            "cell_type": "markdown",
            "source": [
                "<h3 id=\"comments\">Writing comments in Python</h3>"
            ],
            "metadata": {
                "azdata_cell_guid": "02a1e57d-1dfe-4cdd-a460-b1434ebdcf63"
            }
        },
        {
            "cell_type": "markdown",
            "source": [
                "<p>\n",
                "    In addition to writing code, note that it's always a good idea to add comments to your code. It will help others understand what you were trying to accomplish (the reason why you wrote a given snippet of code). Not only does this help <strong>other people</strong> understand your code, it can also serve as a reminder <strong>to you</strong> when you come back to it weeks or months later.</p>\n",
                "\n",
                "<p>\n",
                "    To write comments in Python, use the number symbol <code>#</code> before writing your comment. When you run your code, Python will ignore everything past the <code>#</code> on a given line.\n",
                "</p>"
            ],
            "metadata": {
                "azdata_cell_guid": "f6867761-52c2-483d-9873-59d2d2c5fb7f"
            }
        },
        {
            "cell_type": "code",
            "source": [
                "# Practice on writing comments\n",
                "\n",
                "print('Hello, Python!') # This line prints a string\n",
                "# print('Hi')"
            ],
            "metadata": {
                "azdata_cell_guid": "ccd9a42b-fb4b-452e-92cd-3dd5935f2962"
            },
            "outputs": [
                {
                    "name": "stdout",
                    "text": "Hello, Python!\n",
                    "output_type": "stream"
                }
            ],
            "execution_count": 6
        },
        {
            "cell_type": "markdown",
            "source": [
                "<p>\n",
                "    After executing the cell above, you should notice that <code>This line prints a string</code> did not appear in the output, because it was a comment (and thus ignored by Python).\n",
                "</p>\n",
                "<p>\n",
                "    The second line was also not executed because <code>print('Hi')</code> was preceded by the number sign (<code>#</code>) as well! Since this isn't an explanatory comment from the programmer, but an actual line of code, we might say that the programmer <em>commented out</em> that second line of code.\n",
                "</p>"
            ],
            "metadata": {
                "azdata_cell_guid": "0d894eab-021f-46ba-9379-8eb34872bf67"
            }
        },
        {
            "cell_type": "markdown",
            "source": [
                "<h3 id=\"errors\">Errors in Python</h3>"
            ],
            "metadata": {
                "azdata_cell_guid": "88a32a4c-139d-4437-b2d2-1c012dd97e46"
            }
        },
        {
            "cell_type": "markdown",
            "source": [
                "<p>Everyone makes mistakes. For many types of mistakes, Python will tell you that you have made a mistake by giving you an error message. It is important to read error messages carefully to really understand where you made a mistake and how you may go about correcting it.</p>\n",
                "<p>For example, if you spell <code>print</code> as <code>frint</code>, Python will display an error message. Give it a try:</p>"
            ],
            "metadata": {
                "azdata_cell_guid": "3cf1a081-cb3f-4941-8c24-a82d9c1f7f7d"
            }
        },
        {
            "cell_type": "code",
            "source": [
                "# Print string as error message\n",
                "\n",
                "frint(\"Hello, Python!\")"
            ],
            "metadata": {
                "azdata_cell_guid": "ae68533f-e69a-4a79-bd0c-8d3b92f7d08e"
            },
            "outputs": [
                {
                    "traceback": [
                        "\u001b[1;31m---------------------------------------------------------------------------\u001b[0m",
                        "\u001b[1;31mNameError\u001b[0m                                 Traceback (most recent call last)",
                        "\u001b[1;32m<ipython-input-7-313a1769a8a5>\u001b[0m in \u001b[0;36m<module>\u001b[1;34m\u001b[0m\n\u001b[0;32m      1\u001b[0m \u001b[1;31m# Print string as error message\u001b[0m\u001b[1;33m\u001b[0m\u001b[1;33m\u001b[0m\u001b[1;33m\u001b[0m\u001b[0m\n\u001b[0;32m      2\u001b[0m \u001b[1;33m\u001b[0m\u001b[0m\n\u001b[1;32m----> 3\u001b[1;33m \u001b[0mfrint\u001b[0m\u001b[1;33m(\u001b[0m\u001b[1;34m\"Hello, Python!\"\u001b[0m\u001b[1;33m)\u001b[0m\u001b[1;33m\u001b[0m\u001b[1;33m\u001b[0m\u001b[0m\n\u001b[0m",
                        "\u001b[1;31mNameError\u001b[0m: name 'frint' is not defined"
                    ],
                    "ename": "NameError",
                    "evalue": "name 'frint' is not defined",
                    "output_type": "error"
                }
            ],
            "execution_count": 7
        },
        {
            "cell_type": "markdown",
            "source": [
                "<p>The error message tells you: \n",
                "<ol>\n",
                "    <li>where the error occurred (more useful in large notebook cells or scripts), and</li> \n",
                "    <li>what kind of error it was (NameError)</li> \n",
                "</ol>\n",
                "<p>Here, Python attempted to run the function <code>frint</code>, but could not determine what <code>frint</code> is since it's not a built-in function and it has not been previously defined by us either.</p>"
            ],
            "metadata": {
                "azdata_cell_guid": "f34021be-3f0d-41cc-93bb-29ad45e0b1dc"
            }
        },
        {
            "cell_type": "markdown",
            "source": [
                "<p>\n",
                "    You'll notice that if we make a different type of mistake, by forgetting to close the string, we'll obtain a different error (i.e., a <code>SyntaxError</code>). Try it below:\n",
                "</p>"
            ],
            "metadata": {
                "azdata_cell_guid": "9577752e-e7b4-4af2-b100-29fdcf6569de"
            }
        },
        {
            "cell_type": "code",
            "source": [
                "# Try to see build in error message\n",
                "\n",
                "print(\"Hello, Python!)"
            ],
            "metadata": {
                "azdata_cell_guid": "b196954f-5e8f-40af-85c0-842f0766fe8f"
            },
            "outputs": [
                {
                    "traceback": [
                        "\u001b[1;36m  File \u001b[1;32m\"<ipython-input-8-63a21a726720>\"\u001b[1;36m, line \u001b[1;32m3\u001b[0m\n\u001b[1;33m    print(\"Hello, Python!)\u001b[0m\n\u001b[1;37m                          ^\u001b[0m\n\u001b[1;31mSyntaxError\u001b[0m\u001b[1;31m:\u001b[0m EOL while scanning string literal\n"
                    ],
                    "ename": "SyntaxError",
                    "evalue": "EOL while scanning string literal (<ipython-input-8-63a21a726720>, line 3)",
                    "output_type": "error"
                }
            ],
            "execution_count": 8
        },
        {
            "cell_type": "markdown",
            "source": [
                "<h3 id=\"python_error\">Does Python know about your error before it runs your code?</h3>"
            ],
            "metadata": {
                "azdata_cell_guid": "fd50ad26-42c8-42c2-8c3f-a1ae8bed223f"
            }
        },
        {
            "cell_type": "markdown",
            "source": [
                "Python is what is called an <em>interpreted language</em>. Compiled languages examine your entire program at compile time, and are able to warn you about a whole class of errors prior to execution. In contrast, Python interprets your script line by line as it executes it. Python will stop executing the entire program when it encounters an error (unless the error is expected and handled by the programmer, a more advanced subject that we'll cover later on in this course)."
            ],
            "metadata": {
                "azdata_cell_guid": "1f2f30ee-0b30-4318-aab2-22853c5826fc"
            }
        },
        {
            "cell_type": "markdown",
            "source": [
                "Try to run the code in the cell below and see what happens:"
            ],
            "metadata": {
                "azdata_cell_guid": "6b6a815e-34cd-4297-8a13-dac923b52008"
            }
        },
        {
            "cell_type": "code",
            "source": [
                "# Print string and error to see the running order\n",
                "\n",
                "print(\"This will be printed\")\n",
                "frint(\"This will cause an error\")\n",
                "print(\"This will NOT be printed\")"
            ],
            "metadata": {
                "azdata_cell_guid": "bf3be3f4-67b0-4e05-ad81-ebf76d925c34"
            },
            "outputs": [
                {
                    "name": "stdout",
                    "text": "This will be printed\n",
                    "output_type": "stream"
                },
                {
                    "traceback": [
                        "\u001b[1;31m---------------------------------------------------------------------------\u001b[0m",
                        "\u001b[1;31mNameError\u001b[0m                                 Traceback (most recent call last)",
                        "\u001b[1;32m<ipython-input-9-af59af1b345d>\u001b[0m in \u001b[0;36m<module>\u001b[1;34m\u001b[0m\n\u001b[0;32m      2\u001b[0m \u001b[1;33m\u001b[0m\u001b[0m\n\u001b[0;32m      3\u001b[0m \u001b[0mprint\u001b[0m\u001b[1;33m(\u001b[0m\u001b[1;34m\"This will be printed\"\u001b[0m\u001b[1;33m)\u001b[0m\u001b[1;33m\u001b[0m\u001b[1;33m\u001b[0m\u001b[0m\n\u001b[1;32m----> 4\u001b[1;33m \u001b[0mfrint\u001b[0m\u001b[1;33m(\u001b[0m\u001b[1;34m\"This will cause an error\"\u001b[0m\u001b[1;33m)\u001b[0m\u001b[1;33m\u001b[0m\u001b[1;33m\u001b[0m\u001b[0m\n\u001b[0m\u001b[0;32m      5\u001b[0m \u001b[0mprint\u001b[0m\u001b[1;33m(\u001b[0m\u001b[1;34m\"This will NOT be printed\"\u001b[0m\u001b[1;33m)\u001b[0m\u001b[1;33m\u001b[0m\u001b[1;33m\u001b[0m\u001b[0m\n",
                        "\u001b[1;31mNameError\u001b[0m: name 'frint' is not defined"
                    ],
                    "ename": "NameError",
                    "evalue": "name 'frint' is not defined",
                    "output_type": "error"
                }
            ],
            "execution_count": 9
        },
        {
            "cell_type": "markdown",
            "source": [
                "<h3 id=\"exercise\">Exercise: Your First Program</h3>"
            ],
            "metadata": {
                "azdata_cell_guid": "eae1a41c-55c0-4905-ae50-c93222290f03"
            }
        },
        {
            "cell_type": "markdown",
            "source": [
                "<p>Generations of programmers have started their coding careers by simply printing \"Hello, world!\". You will be following in their footsteps.</p>\n",
                "<p>In the code cell below, use the <code>print()</code> function to print out the phrase: <code>Hello, world!</code></p>"
            ],
            "metadata": {
                "azdata_cell_guid": "1f73db3d-92eb-4ae6-97e3-62fcbafee7ea"
            }
        },
        {
            "cell_type": "code",
            "source": [
                "# Write your code below and press Shift+Enter to execute \n",
                "print(\"Hello, world!\")"
            ],
            "metadata": {
                "azdata_cell_guid": "46bad026-b836-4b8d-9ac7-f33eb87cafb9"
            },
            "outputs": [
                {
                    "name": "stdout",
                    "text": "Hello, world!\n",
                    "output_type": "stream"
                }
            ],
            "execution_count": 10
        },
        {
            "cell_type": "markdown",
            "source": [
                "Double-click __here__ for the solution.\n",
                "\n",
                "<!-- Your answer is below:\n",
                "\n",
                "print(\"Hello, world!\")\n",
                "\n",
                "-->"
            ],
            "metadata": {
                "azdata_cell_guid": "b6120e95-2eda-4825-a8f3-899b5438bc47"
            }
        },
        {
            "cell_type": "markdown",
            "source": [
                "<p>Now, let's enhance your code with a comment. In the code cell below, print out the phrase: <code>Hello, world!</code> and comment it with the phrase <code>Print the traditional hello world</code> all in one line of code.</p>"
            ],
            "metadata": {
                "azdata_cell_guid": "1ab19888-9088-4d13-9198-16db927a8e18"
            }
        },
        {
            "cell_type": "code",
            "source": [
                "# Write your code below and press Shift+Enter to execute \n",
                "print(\"Hello, world!\") # Print the traditional hello world"
            ],
            "metadata": {
                "azdata_cell_guid": "3c7ff054-b2c1-4d4f-9d9d-a8e2252ae818"
            },
            "outputs": [
                {
                    "name": "stdout",
                    "text": "Hello, world!\n",
                    "output_type": "stream"
                }
            ],
            "execution_count": 11
        },
        {
            "cell_type": "markdown",
            "source": [
                "Double-click __here__ for the solution.\n",
                "\n",
                "<!-- Your answer is below:\n",
                "\n",
                "print(\"Hello, world!\") # Print the traditional hello world\n",
                "\n",
                "-->\n"
            ],
            "metadata": {
                "azdata_cell_guid": "96ae9c27-e4b2-444b-acdf-c8690dc8c3a4"
            }
        },
        {
            "cell_type": "markdown",
            "source": [
                "<hr>"
            ],
            "metadata": {
                "azdata_cell_guid": "6075591b-037e-41e5-b093-ce1bedcd650c"
            }
        },
        {
            "cell_type": "markdown",
            "source": [
                "<h2 id=\"types_objects\" align=\"center\">Types of objects in Python</h2>"
            ],
            "metadata": {
                "azdata_cell_guid": "fd0e5663-77a2-4c7f-88bf-4072c4a51148"
            }
        },
        {
            "cell_type": "markdown",
            "source": [
                "<p>Python is an object-oriented language. There are many different types of objects in Python. Let's start with the most common object types: <i>strings</i>, <i>integers</i> and <i>floats</i>. Anytime you write words (text) in Python, you're using <i>character strings</i> (strings for short). The most common numbers, on the other hand, are <i>integers</i> (e.g. -1, 0, 100) and <i>floats</i>, which represent real numbers (e.g. 3.14, -42.0).</p>"
            ],
            "metadata": {
                "azdata_cell_guid": "4538f529-c763-4a3b-9bc2-8a4cc0ff5568"
            }
        },
        {
            "cell_type": "markdown",
            "source": [
                "<a align=\"center\">\n",
                "    <img src=\"https://s3-api.us-geo.objectstorage.softlayer.net/cf-courses-data/CognitiveClass/PY0101EN/Chapter%201/Images/TypesObjects.png\" width=\"600\">\n",
                "</a>"
            ],
            "metadata": {
                "azdata_cell_guid": "7e96e766-865d-468e-8efa-0a3b9f0c2c46"
            }
        },
        {
            "cell_type": "markdown",
            "source": [
                "<p>The following code cells contain some examples.</p>"
            ],
            "metadata": {
                "azdata_cell_guid": "47559f1d-df41-4f1a-9576-de848d91e2c7"
            }
        },
        {
            "cell_type": "code",
            "source": [
                "# Integer\n",
                "\n",
                "11"
            ],
            "metadata": {
                "azdata_cell_guid": "bd4cc97f-6a3d-4d83-a6e3-de22461cf30b"
            },
            "outputs": [
                {
                    "data": {
                        "text/plain": "11"
                    },
                    "metadata": {},
                    "execution_count": 12,
                    "output_type": "execute_result"
                }
            ],
            "execution_count": 12
        },
        {
            "cell_type": "code",
            "source": [
                "# Float\n",
                "\n",
                "2.14"
            ],
            "metadata": {
                "azdata_cell_guid": "8212a165-0366-4ac1-acdc-7b9f287e419a"
            },
            "outputs": [
                {
                    "data": {
                        "text/plain": "2.14"
                    },
                    "metadata": {},
                    "execution_count": 13,
                    "output_type": "execute_result"
                }
            ],
            "execution_count": 13
        },
        {
            "cell_type": "code",
            "source": [
                "# String\n",
                "\n",
                "\"Hello, Python 101!\""
            ],
            "metadata": {
                "azdata_cell_guid": "ae3d95ae-d901-43fc-b99d-2d94d2915bbf"
            },
            "outputs": [
                {
                    "data": {
                        "text/plain": "'Hello, Python 101!'"
                    },
                    "metadata": {},
                    "execution_count": 14,
                    "output_type": "execute_result"
                }
            ],
            "execution_count": 14
        },
        {
            "cell_type": "markdown",
            "source": [
                "<p>You can get Python to tell you the type of an expression by using the built-in <code>type()</code> function. You'll notice that Python refers to integers as <code>int</code>, floats as <code>float</code>, and character strings as <code>str</code>.</p>"
            ],
            "metadata": {
                "azdata_cell_guid": "6b2e31a2-3302-484c-ab99-4d5cb34ce103"
            }
        },
        {
            "cell_type": "code",
            "source": [
                "# Type of 12\n",
                "\n",
                "type(12)"
            ],
            "metadata": {
                "azdata_cell_guid": "df640989-b0c6-4f1a-aace-5929442695a7"
            },
            "outputs": [
                {
                    "data": {
                        "text/plain": "int"
                    },
                    "metadata": {},
                    "execution_count": 15,
                    "output_type": "execute_result"
                }
            ],
            "execution_count": 15
        },
        {
            "cell_type": "code",
            "source": [
                "# Type of 2.14\n",
                "\n",
                "type(2.14)"
            ],
            "metadata": {
                "azdata_cell_guid": "4ce83a48-e27e-43d6-acd1-5f9d47f48667"
            },
            "outputs": [
                {
                    "data": {
                        "text/plain": "float"
                    },
                    "metadata": {},
                    "execution_count": 16,
                    "output_type": "execute_result"
                }
            ],
            "execution_count": 16
        },
        {
            "cell_type": "code",
            "source": [
                "# Type of \"Hello, Python 101!\"\n",
                "\n",
                "type(\"Hello, Python 101!\")"
            ],
            "metadata": {
                "azdata_cell_guid": "5d8f5e80-189a-435a-b1cc-aa37982b3236"
            },
            "outputs": [
                {
                    "data": {
                        "text/plain": "str"
                    },
                    "metadata": {},
                    "execution_count": 17,
                    "output_type": "execute_result"
                }
            ],
            "execution_count": 17
        },
        {
            "cell_type": "markdown",
            "source": [
                "<p>In the code cell below, use the <code>type()</code> function to check the object type of <code>12.0</code>."
            ],
            "metadata": {
                "azdata_cell_guid": "c70c3f99-e368-44c0-bc2c-673a18ba58d4"
            }
        },
        {
            "cell_type": "code",
            "source": [
                "# Write your code below. Don't forget to press Shift+Enter to execute the cell\n",
                "type(12.0)"
            ],
            "metadata": {
                "azdata_cell_guid": "2e0b0b9a-d45a-416c-9f1f-7cd1309b54ae"
            },
            "outputs": [
                {
                    "data": {
                        "text/plain": "float"
                    },
                    "metadata": {},
                    "execution_count": 18,
                    "output_type": "execute_result"
                }
            ],
            "execution_count": 18
        },
        {
            "cell_type": "markdown",
            "source": [
                "Double-click __here__ for the solution.\n",
                "\n",
                "<!-- Your answer is below:\n",
                "\n",
                "type(12.0)\n",
                "\n",
                "-->"
            ],
            "metadata": {
                "azdata_cell_guid": "1e591dc9-9812-49a9-841b-0d7034574559"
            }
        },
        {
            "cell_type": "markdown",
            "source": [
                "<h3 id=\"int\">Integers</h3>"
            ],
            "metadata": {
                "azdata_cell_guid": "9b3227bf-9f90-4f31-abf0-a02c80bce455"
            }
        },
        {
            "cell_type": "markdown",
            "source": [
                "<p>Here are some examples of integers. Integers can be negative or positive numbers:</p>"
            ],
            "metadata": {
                "azdata_cell_guid": "625e7e9b-ff16-4986-8e31-065228b9121c"
            }
        },
        {
            "cell_type": "markdown",
            "source": [
                "<a align=\"center\">\n",
                "    <img src=\"https://s3-api.us-geo.objectstorage.softlayer.net/cf-courses-data/CognitiveClass/PY0101EN/Chapter%201/Images/TypesInt.png\" width=\"600\">\n",
                "</a>"
            ],
            "metadata": {
                "azdata_cell_guid": "dbcf4c72-8e90-4bc3-bdc7-450409e1c632"
            }
        },
        {
            "cell_type": "markdown",
            "source": [
                "<p>We can verify this is the case by using, you guessed it, the <code>type()</code> function:"
            ],
            "metadata": {
                "azdata_cell_guid": "06e40a73-93e7-43a6-a6fb-7a4acf9a3e45"
            }
        },
        {
            "cell_type": "code",
            "source": [
                "# Print the type of -1\n",
                "\n",
                "type(-1)"
            ],
            "metadata": {
                "azdata_cell_guid": "e7f4a063-928f-4e99-815b-cb638b284e0d"
            },
            "outputs": [
                {
                    "data": {
                        "text/plain": "int"
                    },
                    "metadata": {},
                    "execution_count": 19,
                    "output_type": "execute_result"
                }
            ],
            "execution_count": 19
        },
        {
            "cell_type": "code",
            "source": [
                "# Print the type of 4\n",
                "\n",
                "type(4)"
            ],
            "metadata": {
                "azdata_cell_guid": "3830f38c-45d8-4aca-9f58-8cb5d266e48b"
            },
            "outputs": [
                {
                    "data": {
                        "text/plain": "int"
                    },
                    "metadata": {},
                    "execution_count": 21,
                    "output_type": "execute_result"
                }
            ],
            "execution_count": 21
        },
        {
            "cell_type": "code",
            "source": [
                "# Print the type of 0\n",
                "\n",
                "type(0)"
            ],
            "metadata": {
                "azdata_cell_guid": "4377e7f6-f421-4cc1-960d-0f539747c09d"
            },
            "outputs": [
                {
                    "data": {
                        "text/plain": "int"
                    },
                    "metadata": {},
                    "execution_count": 22,
                    "output_type": "execute_result"
                }
            ],
            "execution_count": 22
        },
        {
            "cell_type": "markdown",
            "source": [
                "<h3 id=\"float\">Floats</h3> "
            ],
            "metadata": {
                "azdata_cell_guid": "be4cd946-953d-40e4-a541-99aeda8b5bba"
            }
        },
        {
            "cell_type": "markdown",
            "source": [
                "<p>Floats represent real numbers; they are a superset of integer numbers but also include \"numbers with decimals\". There are some limitations when it comes to machines representing real numbers, but floating point numbers are a good representation in most cases. You can learn more about the specifics of floats for your runtime environment, by checking the value of <code>sys.float_info</code>. This will also tell you what's the largest and smallest number that can be represented with them.</p>\n",
                "\n",
                "<p>Once again, can test some examples with the <code>type()</code> function:"
            ],
            "metadata": {
                "azdata_cell_guid": "08972849-e03f-4ba7-b5be-e86dc7f72d49"
            }
        },
        {
            "cell_type": "code",
            "source": [
                "# Print the type of 1.0\n",
                "\n",
                "type(1.0) # Notice that 1 is an int, and 1.0 is a float"
            ],
            "metadata": {
                "azdata_cell_guid": "68fd3f83-4fa3-4937-9be1-bc8a4d6fab13"
            },
            "outputs": [
                {
                    "data": {
                        "text/plain": "float"
                    },
                    "metadata": {},
                    "execution_count": 23,
                    "output_type": "execute_result"
                }
            ],
            "execution_count": 23
        },
        {
            "cell_type": "code",
            "source": [
                "# Print the type of 0.5\n",
                "\n",
                "type(0.5)"
            ],
            "metadata": {
                "azdata_cell_guid": "062ad63f-3005-44a4-84d7-ef1841bfbd93"
            },
            "outputs": [
                {
                    "data": {
                        "text/plain": "float"
                    },
                    "metadata": {},
                    "execution_count": 24,
                    "output_type": "execute_result"
                }
            ],
            "execution_count": 24
        },
        {
            "cell_type": "code",
            "source": [
                "# Print the type of 0.56\n",
                "\n",
                "type(0.56)"
            ],
            "metadata": {
                "azdata_cell_guid": "b8cba663-2321-42b9-811c-d2d0149a3021"
            },
            "outputs": [
                {
                    "data": {
                        "text/plain": "float"
                    },
                    "metadata": {},
                    "execution_count": 25,
                    "output_type": "execute_result"
                }
            ],
            "execution_count": 25
        },
        {
            "cell_type": "code",
            "source": [
                "# System settings about float type\n",
                "\n",
                "sys.float_info"
            ],
            "metadata": {
                "azdata_cell_guid": "2316b372-8953-4e17-a8dd-377e4edb8379"
            },
            "outputs": [
                {
                    "data": {
                        "text/plain": "sys.float_info(max=1.7976931348623157e+308, max_exp=1024, max_10_exp=308, min=2.2250738585072014e-308, min_exp=-1021, min_10_exp=-307, dig=15, mant_dig=53, epsilon=2.220446049250313e-16, radix=2, rounds=1)"
                    },
                    "metadata": {},
                    "execution_count": 26,
                    "output_type": "execute_result"
                }
            ],
            "execution_count": 26
        },
        {
            "cell_type": "markdown",
            "source": [
                "<h3 id=\"convert\">Converting from one object type to a different object type</h3>"
            ],
            "metadata": {
                "azdata_cell_guid": "0b145a16-a1bf-4031-b21f-8bd429bd8494"
            }
        },
        {
            "cell_type": "markdown",
            "source": [
                "<p>You can change the type of the object in Python; this is called typecasting. For example, you can convert an <i>integer</i> into a <i>float</i> (e.g. 2 to 2.0).</p>\n",
                "<p>Let's try it:</p>"
            ],
            "metadata": {
                "azdata_cell_guid": "0702ab40-d16d-4f8d-beac-b861fbc13c0a"
            }
        },
        {
            "cell_type": "code",
            "source": [
                "# Verify that this is an integer\n",
                "\n",
                "type(2)"
            ],
            "metadata": {
                "azdata_cell_guid": "99499cd3-b207-48cd-85f0-b5ab13f1134a"
            },
            "outputs": [
                {
                    "data": {
                        "text/plain": "int"
                    },
                    "metadata": {},
                    "execution_count": 27,
                    "output_type": "execute_result"
                }
            ],
            "execution_count": 27
        },
        {
            "cell_type": "markdown",
            "source": [
                "<h4>Converting integers to floats</h4>\n",
                "<p>Let's cast integer 2 to float:</p>"
            ],
            "metadata": {
                "azdata_cell_guid": "38f99cdd-e549-4c6b-a5c9-f48bfe818566"
            }
        },
        {
            "cell_type": "code",
            "source": [
                "# Convert 2 to a float\n",
                "\n",
                "float(2)"
            ],
            "metadata": {
                "azdata_cell_guid": "f8578941-60a4-45ae-8108-7d33b88efdca"
            },
            "outputs": [
                {
                    "data": {
                        "text/plain": "2.0"
                    },
                    "metadata": {},
                    "execution_count": 28,
                    "output_type": "execute_result"
                }
            ],
            "execution_count": 28
        },
        {
            "cell_type": "code",
            "source": [
                "# Convert integer 2 to a float and check its type\n",
                "\n",
                "type(float(2))"
            ],
            "metadata": {
                "azdata_cell_guid": "98e58653-bb91-4875-85c0-e8f5ba84cbee"
            },
            "outputs": [
                {
                    "data": {
                        "text/plain": "float"
                    },
                    "metadata": {},
                    "execution_count": 29,
                    "output_type": "execute_result"
                }
            ],
            "execution_count": 29
        },
        {
            "cell_type": "markdown",
            "source": [
                "<p>When we convert an integer into a float, we don't really change the value (i.e., the significand) of the number. However, if we cast a float into an integer, we could potentially lose some information. For example, if we cast the float 1.1 to integer we will get 1 and lose the decimal information (i.e., 0.1):</p>"
            ],
            "metadata": {
                "azdata_cell_guid": "db191822-b017-4b24-9916-f811e8b260cd"
            }
        },
        {
            "cell_type": "code",
            "source": [
                "# Casting 1.1 to integer will result in loss of information\n",
                "\n",
                "int(1.1)"
            ],
            "metadata": {
                "azdata_cell_guid": "d51c9e84-1ad3-4426-8afa-53de3acf1eed"
            },
            "outputs": [
                {
                    "data": {
                        "text/plain": "1"
                    },
                    "metadata": {},
                    "execution_count": 30,
                    "output_type": "execute_result"
                }
            ],
            "execution_count": 30
        },
        {
            "cell_type": "markdown",
            "source": [
                "<h4>Converting from strings to integers or floats</h4>"
            ],
            "metadata": {
                "azdata_cell_guid": "7b2cf1b4-a776-464d-943c-632fdad7c93f"
            }
        },
        {
            "cell_type": "markdown",
            "source": [
                "<p>Sometimes, we can have a string that contains a number within it. If this is the case, we can cast that string that represents a number into an integer using <code>int()</code>:</p>"
            ],
            "metadata": {
                "azdata_cell_guid": "a2cdf320-9167-42cf-aab1-ed49ab2ab8c9"
            }
        },
        {
            "cell_type": "code",
            "source": [
                "# Convert a string into an integer\n",
                "\n",
                "int('1')"
            ],
            "metadata": {
                "azdata_cell_guid": "f818ce00-f6f8-49e7-97b9-b482f18a3a68"
            },
            "outputs": [
                {
                    "data": {
                        "text/plain": "1"
                    },
                    "metadata": {},
                    "execution_count": 31,
                    "output_type": "execute_result"
                }
            ],
            "execution_count": 31
        },
        {
            "cell_type": "markdown",
            "source": [
                "<p>But if you try to do so with a string that is not a perfect match for a number, you'll get an error. Try the following:</p>"
            ],
            "metadata": {
                "azdata_cell_guid": "d4ecbdbc-e6af-435a-8b44-9267501af5dc"
            }
        },
        {
            "cell_type": "code",
            "source": [
                "# Convert a string into an integer with error\n",
                "\n",
                "int('1 or 2 people')"
            ],
            "metadata": {
                "azdata_cell_guid": "0b07bea2-0160-4774-a6c3-19b7d2d27167"
            },
            "outputs": [
                {
                    "traceback": [
                        "\u001b[1;31m---------------------------------------------------------------------------\u001b[0m",
                        "\u001b[1;31mValueError\u001b[0m                                Traceback (most recent call last)",
                        "\u001b[1;32m<ipython-input-32-b78145d165c7>\u001b[0m in \u001b[0;36m<module>\u001b[1;34m\u001b[0m\n\u001b[0;32m      1\u001b[0m \u001b[1;31m# Convert a string into an integer with error\u001b[0m\u001b[1;33m\u001b[0m\u001b[1;33m\u001b[0m\u001b[1;33m\u001b[0m\u001b[0m\n\u001b[0;32m      2\u001b[0m \u001b[1;33m\u001b[0m\u001b[0m\n\u001b[1;32m----> 3\u001b[1;33m \u001b[0mint\u001b[0m\u001b[1;33m(\u001b[0m\u001b[1;34m'1 or 2 people'\u001b[0m\u001b[1;33m)\u001b[0m\u001b[1;33m\u001b[0m\u001b[1;33m\u001b[0m\u001b[0m\n\u001b[0m",
                        "\u001b[1;31mValueError\u001b[0m: invalid literal for int() with base 10: '1 or 2 people'"
                    ],
                    "ename": "ValueError",
                    "evalue": "invalid literal for int() with base 10: '1 or 2 people'",
                    "output_type": "error"
                }
            ],
            "execution_count": 32
        },
        {
            "cell_type": "markdown",
            "source": [
                "<p>You can also convert strings containing floating point numbers into <i>float</i> objects:</p>"
            ],
            "metadata": {
                "azdata_cell_guid": "9cf64b9b-5ee4-4ca1-b67c-094ae5293d69"
            }
        },
        {
            "cell_type": "code",
            "source": [
                "# Convert the string \"1.2\" into a float\n",
                "\n",
                "float('1.2')"
            ],
            "metadata": {
                "azdata_cell_guid": "6a6babfd-790b-4bba-ad94-27e907d65e8b"
            },
            "outputs": [
                {
                    "data": {
                        "text/plain": "1.2"
                    },
                    "metadata": {},
                    "execution_count": 33,
                    "output_type": "execute_result"
                }
            ],
            "execution_count": 33
        },
        {
            "cell_type": "markdown",
            "source": [
                "<hr/>\n",
                "<div class=\"alert alert-success alertsuccess\" style=\"margin-top: 20px\">\n",
                "    [Tip:] Note that strings can be represented with single quotes (<code>'1.2'</code>) or double quotes (<code>\"1.2\"</code>), but you can't mix both (e.g., <code>\"1.2'</code>).\n",
                "</div>\n",
                "<hr/>"
            ],
            "metadata": {
                "azdata_cell_guid": "e5ba2e81-37e2-446d-971c-b2c998587be1"
            }
        },
        {
            "cell_type": "markdown",
            "source": [
                "<h4>Converting numbers to strings</h4>"
            ],
            "metadata": {
                "azdata_cell_guid": "f8747477-de13-4c6a-8696-e80c47941e54"
            }
        },
        {
            "cell_type": "markdown",
            "source": [
                "<p>If we can convert strings to numbers, it is only natural to assume that we can convert numbers to strings, right?</p>"
            ],
            "metadata": {
                "azdata_cell_guid": "8af47509-07ee-41b2-80f6-b107657d7bee"
            }
        },
        {
            "cell_type": "code",
            "source": [
                "# Convert an integer to a string\n",
                "\n",
                "str(1)"
            ],
            "metadata": {
                "azdata_cell_guid": "e9c4eb14-f798-4c43-9ac4-0ba8e77f0651"
            },
            "outputs": [
                {
                    "data": {
                        "text/plain": "'1'"
                    },
                    "metadata": {},
                    "execution_count": 34,
                    "output_type": "execute_result"
                }
            ],
            "execution_count": 34
        },
        {
            "cell_type": "markdown",
            "source": [
                "<p>And there is no reason why we shouldn't be able to make floats into strings as well:</p> "
            ],
            "metadata": {
                "azdata_cell_guid": "ac245c91-b2b2-423f-a67d-62ccc49838b4"
            }
        },
        {
            "cell_type": "code",
            "source": [
                "# Convert a float to a string\n",
                "\n",
                "str(1.2)"
            ],
            "metadata": {
                "azdata_cell_guid": "7cccdc62-047f-4f98-82f9-8bc5920f04f0"
            },
            "outputs": [
                {
                    "data": {
                        "text/plain": "'1.2'"
                    },
                    "metadata": {},
                    "execution_count": 35,
                    "output_type": "execute_result"
                }
            ],
            "execution_count": 35
        },
        {
            "cell_type": "markdown",
            "source": [
                "<h3 id=\"bool\">Boolean data type</h3>"
            ],
            "metadata": {
                "azdata_cell_guid": "4c11b298-9785-4362-bce9-59734d975e14"
            }
        },
        {
            "cell_type": "markdown",
            "source": [
                "<p><i>Boolean</i> is another important type in Python. An object of type <i>Boolean</i> can take on one of two values: <code>True</code> or <code>False</code>:</p>"
            ],
            "metadata": {
                "azdata_cell_guid": "c84f5fc6-6dae-4cf4-96a9-f84a4ef68f1b"
            }
        },
        {
            "cell_type": "code",
            "source": [
                "# Value true\n",
                "\n",
                "True"
            ],
            "metadata": {
                "azdata_cell_guid": "af41368b-ca4b-405a-a4e8-d725a12264e6"
            },
            "outputs": [
                {
                    "data": {
                        "text/plain": "True"
                    },
                    "metadata": {},
                    "execution_count": 36,
                    "output_type": "execute_result"
                }
            ],
            "execution_count": 36
        },
        {
            "cell_type": "markdown",
            "source": [
                "<p>Notice that the value <code>True</code> has an uppercase \"T\". The same is true for <code>False</code> (i.e. you must use the uppercase \"F\").</p>"
            ],
            "metadata": {
                "azdata_cell_guid": "cab765c9-e475-4181-83a9-4be917928e4b"
            }
        },
        {
            "cell_type": "code",
            "source": [
                "# Value false\n",
                "\n",
                "False"
            ],
            "metadata": {
                "azdata_cell_guid": "82d65922-2c77-4fa6-9a69-c93ac0f44c87"
            },
            "outputs": [
                {
                    "data": {
                        "text/plain": "False"
                    },
                    "metadata": {},
                    "execution_count": 37,
                    "output_type": "execute_result"
                }
            ],
            "execution_count": 37
        },
        {
            "cell_type": "markdown",
            "source": [
                "<p>When you ask Python to display the type of a boolean object it will show <code>bool</code> which stands for <i>boolean</i>:</p> "
            ],
            "metadata": {
                "azdata_cell_guid": "7a791398-f7d7-4d7a-93e3-ff2b1e6c418b"
            }
        },
        {
            "cell_type": "code",
            "source": [
                "# Type of True\n",
                "\n",
                "type(True)"
            ],
            "metadata": {
                "azdata_cell_guid": "8d586c68-dd2f-48dd-aaf2-0e8e90e31e6e"
            },
            "outputs": [
                {
                    "data": {
                        "text/plain": "bool"
                    },
                    "metadata": {},
                    "execution_count": 38,
                    "output_type": "execute_result"
                }
            ],
            "execution_count": 38
        },
        {
            "cell_type": "code",
            "source": [
                "# Type of False\n",
                "\n",
                "type(False)"
            ],
            "metadata": {
                "azdata_cell_guid": "35bdd382-03f4-45d9-bdde-ceea80a84483"
            },
            "outputs": [
                {
                    "data": {
                        "text/plain": "bool"
                    },
                    "metadata": {},
                    "execution_count": 39,
                    "output_type": "execute_result"
                }
            ],
            "execution_count": 39
        },
        {
            "cell_type": "markdown",
            "source": [
                "<p>We can cast boolean objects to other data types. If we cast a boolean with a value of <code>True</code> to an integer or float we will get a one. If we cast a boolean with a value of <code>False</code> to an integer or float we will get a zero. Similarly, if we cast a 1 to a Boolean, you get a <code>True</code>. And if we cast a 0 to a Boolean we will get a <code>False</code>. Let's give it a try:</p> "
            ],
            "metadata": {
                "azdata_cell_guid": "54097c33-328d-4548-99e0-3448b2978ae8"
            }
        },
        {
            "cell_type": "code",
            "source": [
                "# Convert True to int\n",
                "\n",
                "int(True)"
            ],
            "metadata": {
                "azdata_cell_guid": "0e4a9b9e-78fe-43c7-a2b5-9cc0b5d28085"
            },
            "outputs": [
                {
                    "data": {
                        "text/plain": "1"
                    },
                    "metadata": {},
                    "execution_count": 40,
                    "output_type": "execute_result"
                }
            ],
            "execution_count": 40
        },
        {
            "cell_type": "code",
            "source": [
                "# Convert 1 to boolean\n",
                "\n",
                "bool(1)"
            ],
            "metadata": {
                "azdata_cell_guid": "075caf4d-27b8-4a94-a0fb-41f1fc9bfd17"
            },
            "outputs": [
                {
                    "data": {
                        "text/plain": "True"
                    },
                    "metadata": {},
                    "execution_count": 41,
                    "output_type": "execute_result"
                }
            ],
            "execution_count": 41
        },
        {
            "cell_type": "code",
            "source": [
                "# Convert 0 to boolean\n",
                "\n",
                "bool(0)"
            ],
            "metadata": {
                "azdata_cell_guid": "84a445e5-ed0a-4eb7-8ac8-100fbfb1270f"
            },
            "outputs": [
                {
                    "data": {
                        "text/plain": "False"
                    },
                    "metadata": {},
                    "execution_count": 42,
                    "output_type": "execute_result"
                }
            ],
            "execution_count": 42
        },
        {
            "cell_type": "code",
            "source": [
                "# Convert True to float\n",
                "\n",
                "float(True)"
            ],
            "metadata": {
                "azdata_cell_guid": "7257efef-a0c8-424f-9dca-965cdd75822a"
            },
            "outputs": [
                {
                    "data": {
                        "text/plain": "1.0"
                    },
                    "metadata": {},
                    "execution_count": 43,
                    "output_type": "execute_result"
                }
            ],
            "execution_count": 43
        },
        {
            "cell_type": "markdown",
            "source": [
                "<h3 id=\"exer_type\">Exercise: Types</h3>"
            ],
            "metadata": {
                "azdata_cell_guid": "bd6ff17e-a91c-4aef-86b9-8e696a16fb30"
            }
        },
        {
            "cell_type": "markdown",
            "source": [
                "<p>What is the data type of the result of: <code>6 / 2</code>?</p>"
            ],
            "metadata": {
                "azdata_cell_guid": "5d45b151-1f01-4242-b408-97e17489ace4"
            }
        },
        {
            "cell_type": "code",
            "source": [
                "# Write your code below. Don't forget to press Shift+Enter to execute the cell\r\n",
                "type(6/2)"
            ],
            "metadata": {
                "azdata_cell_guid": "400d0f6b-bb8a-4d1e-b0ce-2bb7fb40c30e"
            },
            "outputs": [
                {
                    "data": {
                        "text/plain": "float"
                    },
                    "metadata": {},
                    "execution_count": 44,
                    "output_type": "execute_result"
                }
            ],
            "execution_count": 44
        },
        {
            "cell_type": "markdown",
            "source": [
                "Double-click __here__ for the solution.\n",
                "\n",
                "<!-- Your answer is below:\n",
                "type(6/2) # float\n",
                "-->"
            ],
            "metadata": {
                "azdata_cell_guid": "aee542e6-a1c9-448f-9a61-16cf67d3d012"
            }
        },
        {
            "cell_type": "markdown",
            "source": [
                "<p>What is the type of the result of: <code>6 // 2</code>? (Note the double slash <code>//</code>.)</p>"
            ],
            "metadata": {
                "azdata_cell_guid": "609723b6-1dc0-4975-a47e-4105f509ce2b"
            }
        },
        {
            "cell_type": "code",
            "source": [
                "# Write your code below. Don't forget to press Shift+Enter to execute the cell\r\n",
                "type(6//2)"
            ],
            "metadata": {
                "azdata_cell_guid": "39f68dc2-46a8-493b-ac6f-f90a725e453e"
            },
            "outputs": [
                {
                    "data": {
                        "text/plain": "int"
                    },
                    "metadata": {},
                    "execution_count": 45,
                    "output_type": "execute_result"
                }
            ],
            "execution_count": 45
        },
        {
            "cell_type": "markdown",
            "source": [
                "Double-click __here__ for the solution.\n",
                "\n",
                "<!-- Your answer is below:\n",
                "type(6//2) # int, as the double slashes stand for integer division \n",
                "-->"
            ],
            "metadata": {
                "azdata_cell_guid": "4f591f3e-365d-4b6d-9612-7d74c519a528"
            }
        },
        {
            "cell_type": "markdown",
            "source": [
                "<hr>"
            ],
            "metadata": {
                "azdata_cell_guid": "ee501a70-1519-4b7d-8041-b2e5aba4a4c0"
            }
        },
        {
            "cell_type": "markdown",
            "source": [
                "<h2 id=\"expressions\">Expression and Variables</h2>"
            ],
            "metadata": {
                "azdata_cell_guid": "24c4d18c-f45f-4849-b220-bee224cdc3a6"
            }
        },
        {
            "cell_type": "markdown",
            "source": [
                "<h3 id=\"exp\">Expressions</h3>"
            ],
            "metadata": {
                "azdata_cell_guid": "de1cabd6-f952-441b-bc61-33ada09d04c0"
            }
        },
        {
            "cell_type": "markdown",
            "source": [
                "<p>Expressions in Python can include operations among compatible types (e.g., integers and floats). For example, basic arithmetic operations like adding multiple numbers:</p>"
            ],
            "metadata": {
                "azdata_cell_guid": "b5a463e1-4428-4a24-9d3d-bd2002c7c4cb"
            }
        },
        {
            "cell_type": "code",
            "source": [
                "# Addition operation expression\n",
                "\n",
                "43 + 60 + 16 + 41"
            ],
            "metadata": {
                "azdata_cell_guid": "34ef0586-12f3-4304-8770-c086b6cbca10"
            },
            "outputs": [
                {
                    "data": {
                        "text/plain": "160"
                    },
                    "metadata": {},
                    "execution_count": 47,
                    "output_type": "execute_result"
                }
            ],
            "execution_count": 47
        },
        {
            "cell_type": "markdown",
            "source": [
                "<p>We can perform subtraction operations using the minus operator. In this case the result is a negative number:</p>"
            ],
            "metadata": {
                "azdata_cell_guid": "934d96f9-4cd0-4f32-8fa0-f7d7e8f32276"
            }
        },
        {
            "cell_type": "code",
            "source": [
                "# Subtraction operation expression\n",
                "\n",
                "50 - 60"
            ],
            "metadata": {
                "azdata_cell_guid": "e6c4dd30-4211-467a-bfb6-48539eeba4e6"
            },
            "outputs": [
                {
                    "data": {
                        "text/plain": "-10"
                    },
                    "metadata": {},
                    "execution_count": 46,
                    "output_type": "execute_result"
                }
            ],
            "execution_count": 46
        },
        {
            "cell_type": "markdown",
            "source": [
                "<p>We can do multiplication using an asterisk:</p>"
            ],
            "metadata": {
                "azdata_cell_guid": "c86cccc4-34e7-4194-a96a-d7ac707e1852"
            }
        },
        {
            "cell_type": "code",
            "source": [
                "# Multiplication operation expression\n",
                "\n",
                "5 * 5"
            ],
            "metadata": {
                "azdata_cell_guid": "d2333a4a-10f9-4517-b9df-72af805d7c66"
            },
            "outputs": [
                {
                    "data": {
                        "text/plain": "25"
                    },
                    "metadata": {},
                    "execution_count": 48,
                    "output_type": "execute_result"
                }
            ],
            "execution_count": 48
        },
        {
            "cell_type": "markdown",
            "source": [
                "<p>We can also perform division with the forward slash:"
            ],
            "metadata": {
                "azdata_cell_guid": "47093d29-edf8-4621-b392-0dbe211c5898"
            }
        },
        {
            "cell_type": "code",
            "source": [
                "# Division operation expression\n",
                "\n",
                "25 / 5"
            ],
            "metadata": {
                "azdata_cell_guid": "1d538eaa-a070-4b4f-9aec-bdb0eeae8227"
            },
            "outputs": [
                {
                    "data": {
                        "text/plain": "5.0"
                    },
                    "metadata": {},
                    "execution_count": 49,
                    "output_type": "execute_result"
                }
            ],
            "execution_count": 49
        },
        {
            "cell_type": "code",
            "source": [
                "# Division operation expression\n",
                "\n",
                "25 / 6"
            ],
            "metadata": {
                "azdata_cell_guid": "e352c595-4280-425a-95eb-650da82da97a"
            },
            "outputs": [
                {
                    "data": {
                        "text/plain": "4.166666666666667"
                    },
                    "metadata": {},
                    "execution_count": 50,
                    "output_type": "execute_result"
                }
            ],
            "execution_count": 50
        },
        {
            "cell_type": "markdown",
            "source": [
                "<p>As seen in the quiz above, we can use the double slash for integer division, where the result is rounded to the nearest integer:"
            ],
            "metadata": {
                "azdata_cell_guid": "d5716e7c-bffc-4ee8-80d8-6869bba7db5e"
            }
        },
        {
            "cell_type": "code",
            "source": [
                "# Integer division operation expression\n",
                "\n",
                "25 // 5"
            ],
            "metadata": {
                "azdata_cell_guid": "3484528a-dc7f-454d-9d2c-b96acdd8f81a"
            },
            "outputs": [
                {
                    "data": {
                        "text/plain": "5"
                    },
                    "metadata": {},
                    "execution_count": 51,
                    "output_type": "execute_result"
                }
            ],
            "execution_count": 51
        },
        {
            "cell_type": "code",
            "source": [
                "# Integer division operation expression\n",
                "\n",
                "25 // 6"
            ],
            "metadata": {
                "azdata_cell_guid": "209eb867-31c5-4587-804b-15c84722944a"
            },
            "outputs": [
                {
                    "data": {
                        "text/plain": "4"
                    },
                    "metadata": {},
                    "execution_count": 52,
                    "output_type": "execute_result"
                }
            ],
            "execution_count": 52
        },
        {
            "cell_type": "markdown",
            "source": [
                "<h3 id=\"exer_exp\">Exercise: Expression</h3>"
            ],
            "metadata": {
                "azdata_cell_guid": "8fc1b557-ca95-4935-a839-d926d5f539f0"
            }
        },
        {
            "cell_type": "markdown",
            "source": [
                "<p>Let's write an expression that calculates how many hours there are in 160 minutes:"
            ],
            "metadata": {
                "azdata_cell_guid": "14f0b42a-0f16-4702-9ee2-47acd089560a"
            }
        },
        {
            "cell_type": "code",
            "source": [
                "# Write your code below. Don't forget to press Shift+Enter to execute the cell\r\n",
                "160/60"
            ],
            "metadata": {
                "azdata_cell_guid": "f0e070b4-5961-4f28-b444-13bef6c61187"
            },
            "outputs": [
                {
                    "data": {
                        "text/plain": "2.6666666666666665"
                    },
                    "metadata": {},
                    "execution_count": 53,
                    "output_type": "execute_result"
                }
            ],
            "execution_count": 53
        },
        {
            "cell_type": "markdown",
            "source": [
                "Double-click __here__ for the solution.\n",
                "\n",
                "<!-- Your answer is below:\n",
                "160/60 \n",
                "# Or \n",
                "160//60\n",
                "-->"
            ],
            "metadata": {
                "azdata_cell_guid": "89b21328-c102-432b-9433-03403a377cf6"
            }
        },
        {
            "cell_type": "markdown",
            "source": [
                "<p>Python follows well accepted mathematical conventions when evaluating mathematical expressions. In the following example, Python adds 30 to the result of the multiplication (i.e., 120)."
            ],
            "metadata": {
                "azdata_cell_guid": "17eabc38-b56c-4ca8-ba6d-bc98c450ff79"
            }
        },
        {
            "cell_type": "code",
            "source": [
                "# Mathematical expression\n",
                "\n",
                "30 + 2 * 60"
            ],
            "metadata": {
                "azdata_cell_guid": "da548a4a-227d-4f46-9708-033eca4bde33"
            },
            "outputs": [
                {
                    "data": {
                        "text/plain": "150"
                    },
                    "metadata": {},
                    "execution_count": 54,
                    "output_type": "execute_result"
                }
            ],
            "execution_count": 54
        },
        {
            "cell_type": "markdown",
            "source": [
                "<p>And just like mathematics, expressions enclosed in parentheses have priority. So the following multiplies 32 by 60."
            ],
            "metadata": {
                "azdata_cell_guid": "31fa4643-b2b5-41ce-94a8-08da7b13eed4"
            }
        },
        {
            "cell_type": "code",
            "source": [
                "# Mathematical expression\n",
                "\n",
                "(30 + 2) * 60"
            ],
            "metadata": {
                "azdata_cell_guid": "a1d60789-b4e3-4f3d-a5ce-e33483e937ce"
            },
            "outputs": [
                {
                    "data": {
                        "text/plain": "1920"
                    },
                    "metadata": {},
                    "execution_count": 55,
                    "output_type": "execute_result"
                }
            ],
            "execution_count": 55
        },
        {
            "cell_type": "markdown",
            "source": [
                "<h3 id=\"var\">Variables</h3>"
            ],
            "metadata": {
                "azdata_cell_guid": "b6207ff1-95a2-4ec0-b799-ec2770c1e4a8"
            }
        },
        {
            "cell_type": "markdown",
            "source": [
                "<p>Just like with most programming languages, we can store values in <i>variables</i>, so we can use them later on. For example:</p>"
            ],
            "metadata": {
                "azdata_cell_guid": "e60fd7c4-bbe0-4e19-9c0b-267a803a3b57"
            }
        },
        {
            "cell_type": "code",
            "source": [
                "# Store value into variable\n",
                "\n",
                "x = 43 + 60 + 16 + 41"
            ],
            "metadata": {
                "azdata_cell_guid": "e84bcda6-845c-4cb8-880d-235bd91df71a"
            },
            "outputs": [],
            "execution_count": 57
        },
        {
            "cell_type": "markdown",
            "source": [
                "<p>To see the value of <code>x</code> in a Notebook, we can simply place it on the last line of a cell:</p>"
            ],
            "metadata": {
                "azdata_cell_guid": "859b07d7-e16f-4cd1-a147-fbd74168c80e"
            }
        },
        {
            "cell_type": "code",
            "source": [
                "# Print out the value in variable\n",
                "\n",
                "x"
            ],
            "metadata": {
                "azdata_cell_guid": "21ec8eaf-8135-4f05-8167-e52d660673e6"
            },
            "outputs": [
                {
                    "data": {
                        "text/plain": "160"
                    },
                    "metadata": {},
                    "execution_count": 58,
                    "output_type": "execute_result"
                }
            ],
            "execution_count": 58
        },
        {
            "cell_type": "markdown",
            "source": [
                "<p>We can also perform operations on <code>x</code> and save the result to a new variable:</p>"
            ],
            "metadata": {
                "azdata_cell_guid": "ec343db8-0510-42d8-85f2-72d19966bb25"
            }
        },
        {
            "cell_type": "code",
            "source": [
                "# Use another variable to store the result of the operation between variable and value\n",
                "\n",
                "y = x / 60\n",
                "y"
            ],
            "metadata": {
                "azdata_cell_guid": "1191feef-9b18-4105-9183-8bac79c07a8b"
            },
            "outputs": [
                {
                    "data": {
                        "text/plain": "2.6666666666666665"
                    },
                    "metadata": {},
                    "execution_count": 59,
                    "output_type": "execute_result"
                }
            ],
            "execution_count": 59
        },
        {
            "cell_type": "markdown",
            "source": [
                "<p>If we save a value to an existing variable, the new value will overwrite the previous value:</p>"
            ],
            "metadata": {
                "azdata_cell_guid": "c35b806c-b934-4091-bd9c-b2059e5b70dc"
            }
        },
        {
            "cell_type": "code",
            "source": [
                "# Overwrite variable with new value\n",
                "\n",
                "x = x / 60\n",
                "x"
            ],
            "metadata": {
                "azdata_cell_guid": "d7bc8231-d577-435a-8d5d-f6f1ce3df01c"
            },
            "outputs": [
                {
                    "data": {
                        "text/plain": "2.6666666666666665"
                    },
                    "metadata": {},
                    "execution_count": 60,
                    "output_type": "execute_result"
                }
            ],
            "execution_count": 60
        },
        {
            "cell_type": "markdown",
            "source": [
                "<p>It's a good practice to use meaningful variable names, so you and others can read the code and understand it more easily:</p>"
            ],
            "metadata": {
                "azdata_cell_guid": "55211a66-a52f-4538-b2c6-78ae018c1773"
            }
        },
        {
            "cell_type": "code",
            "source": [
                "# Name the variables meaningfully\n",
                "\n",
                "total_min = 43 + 42 + 57 # Total length of albums in minutes\n",
                "total_min"
            ],
            "metadata": {
                "azdata_cell_guid": "6073d44e-017d-49ca-9c2b-9ba08285054e"
            },
            "outputs": [
                {
                    "data": {
                        "text/plain": "142"
                    },
                    "metadata": {},
                    "execution_count": 61,
                    "output_type": "execute_result"
                }
            ],
            "execution_count": 61
        },
        {
            "cell_type": "code",
            "source": [
                "# Name the variables meaningfully\n",
                "\n",
                "total_hours = total_min / 60 # Total length of albums in hours \n",
                "total_hours"
            ],
            "metadata": {
                "azdata_cell_guid": "4f69973f-3012-4b05-a1a8-586806ee55da"
            },
            "outputs": [
                {
                    "data": {
                        "text/plain": "2.3666666666666667"
                    },
                    "metadata": {},
                    "execution_count": 62,
                    "output_type": "execute_result"
                }
            ],
            "execution_count": 62
        },
        {
            "cell_type": "markdown",
            "source": [
                "<p>In the cells above we added the length of three albums in minutes and stored it in <code>total_min</code>. We then divided it by 60 to calculate total length <code>total_hours</code> in hours. You can also do it all at once in a single expression, as long as you use parenthesis to add the albums length before you divide, as shown below.</p>"
            ],
            "metadata": {
                "azdata_cell_guid": "bc2c3563-2ea8-4b30-8a96-3527d1fde164"
            }
        },
        {
            "cell_type": "code",
            "source": [
                "# Complicate expression\n",
                "\n",
                "total_hours = (43 + 42 + 57) / 60  # Total hours in a single expression\n",
                "total_hours"
            ],
            "metadata": {
                "azdata_cell_guid": "b7b81978-555e-4faa-8c38-d4782a4eabc0"
            },
            "outputs": [
                {
                    "data": {
                        "text/plain": "2.3666666666666667"
                    },
                    "metadata": {},
                    "execution_count": 63,
                    "output_type": "execute_result"
                }
            ],
            "execution_count": 63
        },
        {
            "cell_type": "markdown",
            "source": [
                "<p>If you'd rather have total hours as an integer, you can of course replace the floating point division with integer division (i.e., <code>//</code>).</p>"
            ],
            "metadata": {
                "azdata_cell_guid": "961c8f5a-82b6-4a78-af86-2b29823846c1"
            }
        },
        {
            "cell_type": "markdown",
            "source": [
                "<h3 id=\"exer_exp_var\">Exercise: Expression and Variables in Python</h3>"
            ],
            "metadata": {
                "azdata_cell_guid": "dc9df965-48d5-4323-8acd-06c168bc7d22"
            }
        },
        {
            "cell_type": "markdown",
            "source": [
                "<p>What is the value of <code>x</code> where <code>x = 3 + 2 * 2</code></p>"
            ],
            "metadata": {
                "azdata_cell_guid": "f3f11081-a43e-4cae-8865-cc817038adb8"
            }
        },
        {
            "cell_type": "code",
            "source": [
                "# Write your code below. Don't forget to press Shift+Enter to execute the cell\r\n",
                "x = 3 + 2 * 2\r\n",
                "x"
            ],
            "metadata": {
                "azdata_cell_guid": "10279193-331a-4282-846b-be1d7c837101"
            },
            "outputs": [
                {
                    "data": {
                        "text/plain": "7"
                    },
                    "metadata": {},
                    "execution_count": 65,
                    "output_type": "execute_result"
                }
            ],
            "execution_count": 65
        },
        {
            "cell_type": "markdown",
            "source": [
                "Double-click __here__ for the solution.\n",
                "\n",
                "<!-- Your answer is below:\n",
                "7\n",
                "-->\n"
            ],
            "metadata": {
                "azdata_cell_guid": "b73c6a91-7c8f-439d-89b1-9d9459a66134"
            }
        },
        {
            "cell_type": "markdown",
            "source": [
                "<p>What is the value of <code>y</code> where <code>y = (3 + 2) * 2</code>?</p>"
            ],
            "metadata": {
                "azdata_cell_guid": "662c03ae-224f-468c-8066-f62e0eaabcae"
            }
        },
        {
            "cell_type": "code",
            "source": [
                "# Write your code below. Don't forget to press Shift+Enter to execute the cell\r\n",
                "y = (3+2)*2\r\n",
                "y"
            ],
            "metadata": {
                "azdata_cell_guid": "25194c8d-869a-47a5-8803-a2ce3867a960"
            },
            "outputs": [
                {
                    "data": {
                        "text/plain": "10"
                    },
                    "metadata": {},
                    "execution_count": 69,
                    "output_type": "execute_result"
                }
            ],
            "execution_count": 69
        },
        {
            "cell_type": "markdown",
            "source": [
                "Double-click __here__ for the solution.\n",
                "\n",
                "<!-- Your answer is below:\n",
                "10\n",
                "-->"
            ],
            "metadata": {
                "azdata_cell_guid": "0b6bad69-62d6-4b2b-a0cc-add512cb39a2"
            }
        },
        {
            "cell_type": "markdown",
            "source": [
                "<p>What is the value of <code>z</code> where <code>z = x + y</code>?</p>"
            ],
            "metadata": {
                "azdata_cell_guid": "77973db2-dd34-489e-992a-e54638bb2922"
            }
        },
        {
            "cell_type": "code",
            "source": [
                "# Write your code below. Don't forget to press Shift+Enter to execute the cell\r\n",
                "z = x + y\r\n",
                "z"
            ],
            "metadata": {
                "azdata_cell_guid": "0b2d6844-85fb-4ef3-8520-aabe9833707f"
            },
            "outputs": [
                {
                    "data": {
                        "text/plain": "17"
                    },
                    "metadata": {},
                    "execution_count": 70,
                    "output_type": "execute_result"
                }
            ],
            "execution_count": 70
        },
        {
            "cell_type": "markdown",
            "source": [
                "Double-click __here__ for the solution.\n",
                "\n",
                "<!-- Your answer is below:\n",
                "17\n",
                "-->"
            ],
            "metadata": {
                "azdata_cell_guid": "e1f42762-86c6-4d22-9182-1ed88634091a"
            }
        },
        {
            "cell_type": "markdown",
            "source": [
                "<hr>\n",
                "<h2>The last exercise!</h2>\n",
                "<p>Congratulations, you have completed your first lesson and hands-on lab in Python. However, there is one more thing you need to do. The Data Science community encourages sharing work. The best way to share and showcase your work is to share it on GitHub. By sharing your notebook on GitHub you are not only building your reputation with fellow data scientists, but you can also show it off when applying for a job. Even though this was your first piece of work, it is never too early to start building good habits. So, please read and follow <a href=\"https://cognitiveclass.ai/blog/data-scientists-stand-out-by-sharing-your-notebooks/\" target=\"_blank\">this article</a> to learn how to share your work.\n",
                "<hr>"
            ],
            "metadata": {
                "azdata_cell_guid": "56679633-5e4e-4156-a4cd-0e73075f4bad"
            }
        },
        {
            "cell_type": "markdown",
            "source": [
                "<h3>About the Authors:</h3>  \n",
                "<p><a href=\"https://www.linkedin.com/in/joseph-s-50398b136/\" target=\"_blank\">Joseph Santarcangelo</a> is a Data Scientist at IBM, and holds a PhD in Electrical Engineering. His research focused on using Machine Learning, Signal Processing, and Computer Vision to determine how videos impact human cognition. Joseph has been working for IBM since he completed his PhD.</p>"
            ],
            "metadata": {
                "azdata_cell_guid": "d450bbc8-54c9-4915-b117-a2907ae6f5bf"
            }
        },
        {
            "cell_type": "markdown",
            "source": [
                "Other contributors: <a href=\"www.linkedin.com/in/jiahui-mavis-zhou-a4537814a\">Mavis Zhou</a>"
            ],
            "metadata": {
                "azdata_cell_guid": "82a8aa18-e87a-4f51-93fb-170e716ccb3e"
            }
        },
        {
            "cell_type": "markdown",
            "source": [
                "<hr>\n",
                "<p>Copyright &copy; 2018 IBM Developer Skills Network. This notebook and its source code are released under the terms of the <a href=\"https://cognitiveclass.ai/mit-license/\">MIT License</a>.</p>"
            ],
            "metadata": {
                "azdata_cell_guid": "efdda7d0-b3ff-4c03-9ba8-af0071be23f4"
            }
        }
    ]
}