{
    "metadata": {
        "kernelspec": {
            "name": "python3",
            "display_name": "Python 3"
        },
        "language_info": {
            "name": "python",
            "version": "3.7.4",
            "mimetype": "text/x-python",
            "codemirror_mode": {
                "name": "ipython",
                "version": 3
            },
            "pygments_lexer": "ipython3",
            "nbconvert_exporter": "python",
            "file_extension": ".py"
        }
    },
    "nbformat_minor": 2,
    "nbformat": 4,
    "cells": [
        {
            "cell_type": "markdown",
            "source": [
                "<h1>String Operations</h1>"
            ],
            "metadata": {
                "azdata_cell_guid": "766a62b8-94f7-44e9-821c-a2a0e582d54c"
            }
        },
        {
            "cell_type": "markdown",
            "source": [
                "<p><strong>Welcome!</strong> This notebook will teach you about the string operations in the Python Programming Language. By the end of this notebook, you'll know the basics string operations in Python, including indexing, escape sequences and operations.</p> "
            ],
            "metadata": {
                "azdata_cell_guid": "8f63ec4e-e2d9-4b18-af0f-fb0a67acc5c9"
            }
        },
        {
            "cell_type": "markdown",
            "source": [
                "<h2>Table of Contents</h2>\n",
                "<div class=\"alert alert-block alert-info\" style=\"margin-top: 20px\">\n",
                "    <ul>\n",
                "        <li>\n",
                "            <a href=\"#strings\">What are Strings?</a>\n",
                "        </li>\n",
                "        <li>\n",
                "            <a href=\"#index\">Indexing</a>\n",
                "            <ul>\n",
                "                <li><a href=\"neg\">Negative Indexing</a></li>\n",
                "                <li><a href=\"slice\">Slicing</a></li>\n",
                "                <li><a href=\"stride\">Stride</a></li>\n",
                "                <li><a href=\"concat\">Concatenate Strings</a></li>\n",
                "            </ul>\n",
                "        </li>\n",
                "        <li>\n",
                "            <a href=\"#escape\">Escape Sequences</a>\n",
                "        </li>\n",
                "        <li>\n",
                "            <a href=\"#operations\">String Operations</a>\n",
                "        </li>\n",
                "        <li>\n",
                "            <a href=\"#quiz\">Quiz on Strings</a>\n",
                "        </li>\n",
                "    </ul>\n",
                "    <p>\n",
                "        Estimated time needed: <strong>15 min</strong>\n",
                "    </p>\n",
                "</div>\n",
                "\n",
                "<hr>"
            ],
            "metadata": {
                "azdata_cell_guid": "4d48d1d3-732b-47db-846a-cff608f78dde"
            }
        },
        {
            "cell_type": "markdown",
            "source": [
                "<h2 id=\"strings\">What are Strings?</h2>"
            ],
            "metadata": {
                "azdata_cell_guid": "22b37aab-5a23-4a6b-8b53-4d1dcd9412c4"
            }
        },
        {
            "cell_type": "markdown",
            "source": [
                "The following example shows a string contained within 2 quotation marks:"
            ],
            "metadata": {
                "azdata_cell_guid": "d39fa96e-c75b-4c72-a339-fea8b77e66d9"
            }
        },
        {
            "cell_type": "code",
            "source": [
                "# Use quotation marks for defining string\n",
                "\n",
                "\"Michael Jackson\""
            ],
            "metadata": {
                "collapsed": false,
                "azdata_cell_guid": "44b9ac05-d6bd-4a82-89bc-cd8f175d6211"
            },
            "outputs": [
                {
                    "data": {
                        "text/plain": "'Michael Jackson'"
                    },
                    "metadata": {},
                    "execution_count": 1,
                    "output_type": "execute_result"
                }
            ],
            "execution_count": 1
        },
        {
            "cell_type": "markdown",
            "source": [
                "We can also use single quotation marks:"
            ],
            "metadata": {
                "azdata_cell_guid": "f1dd7ad4-26f0-485e-9a4d-6f2296f98c6c"
            }
        },
        {
            "cell_type": "code",
            "source": [
                "# Use single quotation marks for defining string\n",
                "\n",
                "'Michael Jackson'"
            ],
            "metadata": {
                "collapsed": false,
                "azdata_cell_guid": "68cc939d-70f2-4dfa-a0db-5ee0261fdf26"
            },
            "outputs": [
                {
                    "data": {
                        "text/plain": "'Michael Jackson'"
                    },
                    "metadata": {},
                    "execution_count": 2,
                    "output_type": "execute_result"
                }
            ],
            "execution_count": 2
        },
        {
            "cell_type": "markdown",
            "source": [
                "A string can be a combination of spaces and digits: "
            ],
            "metadata": {
                "azdata_cell_guid": "c14dbee3-f448-453b-8958-55d048683c29"
            }
        },
        {
            "cell_type": "code",
            "source": [
                "# Digitals and spaces in string\n",
                "\n",
                "'1 2 3 4 5 6 '"
            ],
            "metadata": {
                "collapsed": false,
                "azdata_cell_guid": "bd2e513d-4038-4a58-86ca-2dd1beb4c42b"
            },
            "outputs": [
                {
                    "data": {
                        "text/plain": "'1 2 3 4 5 6 '"
                    },
                    "metadata": {},
                    "execution_count": 3,
                    "output_type": "execute_result"
                }
            ],
            "execution_count": 3
        },
        {
            "cell_type": "markdown",
            "source": [
                "A string can also be a combination of special characters : "
            ],
            "metadata": {
                "azdata_cell_guid": "ebab99ea-ad5b-49af-9970-f0ec00868c3e"
            }
        },
        {
            "cell_type": "code",
            "source": [
                "# Special characters in string\n",
                "\n",
                "'@#2_#]&*^%$'"
            ],
            "metadata": {
                "collapsed": false,
                "azdata_cell_guid": "871e1693-e33f-4a6b-8d5b-83304e0b00d3"
            },
            "outputs": [
                {
                    "data": {
                        "text/plain": "'@#2_#]&*^%$'"
                    },
                    "metadata": {},
                    "execution_count": 4,
                    "output_type": "execute_result"
                }
            ],
            "execution_count": 4
        },
        {
            "cell_type": "markdown",
            "source": [
                "We can print our string using the print statement:"
            ],
            "metadata": {
                "azdata_cell_guid": "a071336c-3513-4651-b21c-2bb30e19aec2"
            }
        },
        {
            "cell_type": "code",
            "source": [
                "# Print the string\n",
                "\n",
                "print(\"hello!\")"
            ],
            "metadata": {
                "collapsed": false,
                "azdata_cell_guid": "30ff5996-e6a2-4b8f-8208-4695c27dc23c"
            },
            "outputs": [
                {
                    "name": "stdout",
                    "text": "hello!\n",
                    "output_type": "stream"
                }
            ],
            "execution_count": 5
        },
        {
            "cell_type": "markdown",
            "source": [
                "We can bind or assign a string to another variable:\n"
            ],
            "metadata": {
                "azdata_cell_guid": "fafb0103-e524-4ce6-8f8b-bbb4e020a642"
            }
        },
        {
            "cell_type": "code",
            "source": [
                "# Assign string to variable\n",
                "\n",
                "Name = \"Michael Jackson\"\n",
                "Name"
            ],
            "metadata": {
                "collapsed": false,
                "azdata_cell_guid": "83570076-e611-4c44-9eb6-9ce1b2c468cb"
            },
            "outputs": [
                {
                    "data": {
                        "text/plain": "'Michael Jackson'"
                    },
                    "metadata": {},
                    "execution_count": 6,
                    "output_type": "execute_result"
                }
            ],
            "execution_count": 6
        },
        {
            "cell_type": "markdown",
            "source": [
                "<hr>"
            ],
            "metadata": {
                "azdata_cell_guid": "19bc1766-2852-41a2-b4e6-a53ef3f0ef4b"
            }
        },
        {
            "cell_type": "markdown",
            "source": [
                "<h2 id=\"index\">Indexing</h2>"
            ],
            "metadata": {
                "azdata_cell_guid": "a24da983-61d3-4522-88a7-236754411e5c"
            }
        },
        {
            "cell_type": "markdown",
            "source": [
                "It is helpful to think of a string as an ordered sequence. Each element in the sequence can be accessed using an index represented by the array of numbers:  "
            ],
            "metadata": {
                "azdata_cell_guid": "52341d48-65ac-47af-837c-5ad466760e3e"
            }
        },
        {
            "cell_type": "markdown",
            "source": [
                "<img src=\"https://s3-api.us-geo.objectstorage.softlayer.net/cf-courses-data/CognitiveClass/PY0101EN/Chapter%201/Images/StringsIndex.png\" width=\"600\" align=\"center\" />"
            ],
            "metadata": {
                "azdata_cell_guid": "a06e1a8b-2c0d-4d08-a6f7-655e06033f64"
            }
        },
        {
            "cell_type": "markdown",
            "source": [
                " The first index can be accessed as follows:"
            ],
            "metadata": {
                "azdata_cell_guid": "c08aa59f-3549-4564-a4a1-7ea074bacefb"
            }
        },
        {
            "cell_type": "markdown",
            "source": [
                "<hr/>\n",
                "<div class=\"alert alert-success alertsuccess\" style=\"margin-top: 20px\">\n",
                "[Tip]: Because indexing starts at 0, it means the first index is on the index 0.\n",
                "</div>\n",
                "<hr/>"
            ],
            "metadata": {
                "azdata_cell_guid": "4051e06e-34df-42b8-a8eb-12b5d5115724"
            }
        },
        {
            "cell_type": "code",
            "source": [
                "# Print the first element in the string\n",
                "\n",
                "print(Name[0])"
            ],
            "metadata": {
                "collapsed": false,
                "azdata_cell_guid": "9f595976-4a0c-4cc1-8016-186e286ed6fe"
            },
            "outputs": [
                {
                    "name": "stdout",
                    "text": "M\n",
                    "output_type": "stream"
                }
            ],
            "execution_count": 7
        },
        {
            "cell_type": "markdown",
            "source": [
                " We can access index 6:"
            ],
            "metadata": {
                "azdata_cell_guid": "26bee183-0090-4747-b6a8-df26ed3b6e0b"
            }
        },
        {
            "cell_type": "code",
            "source": [
                "# Print the element on index 6 in the string\n",
                "\n",
                "print(Name[6])"
            ],
            "metadata": {
                "collapsed": false,
                "azdata_cell_guid": "0b962a67-2c30-4a05-8ab5-5289d4077021"
            },
            "outputs": [
                {
                    "name": "stdout",
                    "text": "l\n",
                    "output_type": "stream"
                }
            ],
            "execution_count": 8
        },
        {
            "cell_type": "markdown",
            "source": [
                "Moreover, we can access the 13th index:"
            ],
            "metadata": {
                "azdata_cell_guid": "40729dc5-c693-4aee-935c-21b30bc6a17b"
            }
        },
        {
            "cell_type": "code",
            "source": [
                "# Print the element on the 13th index in the string\n",
                "\n",
                "print(Name[13])"
            ],
            "metadata": {
                "collapsed": false,
                "azdata_cell_guid": "9fe0603e-540c-4e39-9c21-4133e9b82bb4"
            },
            "outputs": [
                {
                    "name": "stdout",
                    "text": "o\n",
                    "output_type": "stream"
                }
            ],
            "execution_count": 9
        },
        {
            "cell_type": "markdown",
            "source": [
                "<h3 id=\"neg\">Negative Indexing</h3>"
            ],
            "metadata": {
                "azdata_cell_guid": "39d9fdd6-a0fe-447c-9d35-953d256792b6"
            }
        },
        {
            "cell_type": "markdown",
            "source": [
                " We can also use negative indexing with strings:"
            ],
            "metadata": {
                "azdata_cell_guid": "9b2b147f-6626-4b07-bd33-44e39c63dd9a"
            }
        },
        {
            "cell_type": "markdown",
            "source": [
                "<img src=\"https://s3-api.us-geo.objectstorage.softlayer.net/cf-courses-data/CognitiveClass/PY0101EN/Chapter%201/Images/StringsNeg.png\" width=\"600\" align=\"center\" />"
            ],
            "metadata": {
                "azdata_cell_guid": "c2317d2e-2988-42cb-aae6-b9c80328a610"
            }
        },
        {
            "cell_type": "markdown",
            "source": [
                "Negative index can help us to count the element from the end of the string."
            ],
            "metadata": {
                "azdata_cell_guid": "d6583c1c-a7f4-4294-bdf8-3d94e776f907"
            }
        },
        {
            "cell_type": "markdown",
            "source": [
                "The last element is given by the index -1: "
            ],
            "metadata": {
                "azdata_cell_guid": "6064f47e-e62d-4304-b48c-d1c796a0fb92"
            }
        },
        {
            "cell_type": "code",
            "source": [
                "# Print the last element in the string\n",
                "\n",
                "print(Name[-1])"
            ],
            "metadata": {
                "collapsed": false,
                "azdata_cell_guid": "7cadf468-8a8c-4bb7-9650-bb8d72433a17"
            },
            "outputs": [
                {
                    "name": "stdout",
                    "text": "n\n",
                    "output_type": "stream"
                }
            ],
            "execution_count": 14
        },
        {
            "cell_type": "markdown",
            "source": [
                " The first element can be obtained by  index -15:"
            ],
            "metadata": {
                "azdata_cell_guid": "be223e0e-9fa6-4d1d-a1cb-eccaaf986b42"
            }
        },
        {
            "cell_type": "code",
            "source": [
                "# Print the first element in the string\n",
                "\n",
                "print(Name[-15])"
            ],
            "metadata": {
                "collapsed": false,
                "azdata_cell_guid": "6b48bd83-aa29-4920-aac1-59340d6e1433"
            },
            "outputs": [
                {
                    "name": "stdout",
                    "text": "M\n",
                    "output_type": "stream"
                }
            ],
            "execution_count": 15
        },
        {
            "cell_type": "markdown",
            "source": [
                "We can find the number of characters in a string by using <code>len</code>, short for length:"
            ],
            "metadata": {
                "azdata_cell_guid": "66fba333-de1e-48af-b28e-1126da49cfd5"
            }
        },
        {
            "cell_type": "code",
            "source": [
                "# Find the length of string\n",
                "\n",
                "len(\"Michael Jackson\")"
            ],
            "metadata": {
                "collapsed": false,
                "azdata_cell_guid": "581de318-8fa2-42a7-afb7-f0610eab610d"
            },
            "outputs": [
                {
                    "data": {
                        "text/plain": "15"
                    },
                    "metadata": {},
                    "execution_count": 16,
                    "output_type": "execute_result"
                }
            ],
            "execution_count": 16
        },
        {
            "cell_type": "markdown",
            "source": [
                "<h3 id=\"slice\">Slicing</h3>"
            ],
            "metadata": {
                "azdata_cell_guid": "04951c59-feb3-4417-94b4-8e762640cd69"
            }
        },
        {
            "cell_type": "markdown",
            "source": [
                "We can obtain multiple characters from a string using slicing, we can obtain the 0 to 4th and 8th to the 12th element:  "
            ],
            "metadata": {
                "azdata_cell_guid": "12527ab8-580f-4c34-8711-81f6b45fb5a1"
            }
        },
        {
            "cell_type": "markdown",
            "source": [
                "<img src=\"https://s3-api.us-geo.objectstorage.softlayer.net/cf-courses-data/CognitiveClass/PY0101EN/Chapter%201/Images/StringsSlice.png\" width=\"600\" align=\"center\" />"
            ],
            "metadata": {
                "azdata_cell_guid": "64b2fb94-ce63-4c5c-825a-209472e2df37"
            }
        },
        {
            "cell_type": "markdown",
            "source": [
                "<hr/>\n",
                "<div class=\"alert alert-success alertsuccess\" style=\"margin-top: 20px\">\n",
                "[Tip]: When taking the slice, the first number means the index (start at 0), and the second number means the length from the index to the last element you want (start at 1)\n",
                "</div>\n",
                "<hr/>"
            ],
            "metadata": {
                "azdata_cell_guid": "30eae1ab-948d-41ee-9a24-269aff246e62"
            }
        },
        {
            "cell_type": "code",
            "source": [
                "# Take the slice on variable Name with only index 0 to index 3\n",
                "\n",
                "Name[0:4]"
            ],
            "metadata": {
                "collapsed": false,
                "azdata_cell_guid": "9c5a607a-21d6-4c84-8150-762e820cbc5c"
            },
            "outputs": [
                {
                    "data": {
                        "text/plain": "'Mich'"
                    },
                    "metadata": {},
                    "execution_count": 17,
                    "output_type": "execute_result"
                }
            ],
            "execution_count": 17
        },
        {
            "cell_type": "code",
            "source": [
                "# Take the slice on variable Name with only index 8 to index 11\n",
                "\n",
                "Name[8:12]"
            ],
            "metadata": {
                "collapsed": false,
                "azdata_cell_guid": "6e50cafc-f083-4703-aff9-e4d369306bb5"
            },
            "outputs": [
                {
                    "data": {
                        "text/plain": "'Jack'"
                    },
                    "metadata": {},
                    "execution_count": 18,
                    "output_type": "execute_result"
                }
            ],
            "execution_count": 18
        },
        {
            "cell_type": "markdown",
            "source": [
                "<h3 id=\"stride\">Stride</h3>"
            ],
            "metadata": {
                "azdata_cell_guid": "d1a474d0-f2ad-4b6b-a0f0-d3c08fb4e8e9"
            }
        },
        {
            "cell_type": "markdown",
            "source": [
                " We can also  input a stride value as follows, with the '2' indicating that we are selecting every second variable:"
            ],
            "metadata": {
                "azdata_cell_guid": "c4a70887-2dca-4283-9ac2-4e822b06f3ca"
            }
        },
        {
            "cell_type": "markdown",
            "source": [
                "<img src=\"https://s3-api.us-geo.objectstorage.softlayer.net/cf-courses-data/CognitiveClass/PY0101EN/Chapter%201/Images/StringsStride.png\" width=\"600\" align=\"center\" />"
            ],
            "metadata": {
                "azdata_cell_guid": "ceec95c7-281e-4353-be29-7ed4a7e1f513"
            }
        },
        {
            "cell_type": "code",
            "source": [
                "# Get every second element. The elments on index 1, 3, 5 ...\n",
                "\n",
                "Name[::2]"
            ],
            "metadata": {
                "collapsed": false,
                "azdata_cell_guid": "de81d95f-ac92-4a37-95b8-a988a9590bcd"
            },
            "outputs": [
                {
                    "data": {
                        "text/plain": "'McalJcsn'"
                    },
                    "metadata": {},
                    "execution_count": 22,
                    "output_type": "execute_result"
                }
            ],
            "execution_count": 22
        },
        {
            "cell_type": "markdown",
            "source": [
                "We can also incorporate slicing  with the stride. In this case, we select the first five elements and then use the stride: "
            ],
            "metadata": {
                "azdata_cell_guid": "72fe8542-9618-44bf-ac2c-07ce74467ffc"
            }
        },
        {
            "cell_type": "code",
            "source": [
                "# Get every second element in the range from index 0 to index 4\n",
                "\n",
                "Name[0:5:2]"
            ],
            "metadata": {
                "collapsed": false,
                "azdata_cell_guid": "ebecc65a-fb01-4660-a0f5-804c71a8a8cc"
            },
            "outputs": [
                {
                    "data": {
                        "text/plain": "'Mca'"
                    },
                    "metadata": {},
                    "execution_count": 23,
                    "output_type": "execute_result"
                }
            ],
            "execution_count": 23
        },
        {
            "cell_type": "markdown",
            "source": [
                "<h3 id=\"concat\">Concatenate Strings</h3>"
            ],
            "metadata": {
                "azdata_cell_guid": "2821267b-6479-4700-a3e1-3c8a38eeac0c"
            }
        },
        {
            "cell_type": "markdown",
            "source": [
                "We can concatenate or combine strings by using the addition symbols, and the result is a new string that is a combination of both:\n"
            ],
            "metadata": {
                "azdata_cell_guid": "4d978656-22e5-4423-bf38-a7027ee382a9"
            }
        },
        {
            "cell_type": "code",
            "source": [
                "# Concatenate two strings\n",
                "\n",
                "Statement = Name + \"is the best\"\n",
                "Statement"
            ],
            "metadata": {
                "collapsed": false,
                "azdata_cell_guid": "3da61be2-c364-4a2e-97c5-f016b4b7da23"
            },
            "outputs": [
                {
                    "data": {
                        "text/plain": "'Michael Jacksonis the best'"
                    },
                    "metadata": {},
                    "execution_count": 24,
                    "output_type": "execute_result"
                }
            ],
            "execution_count": 24
        },
        {
            "cell_type": "markdown",
            "source": [
                "To replicate values of a string we simply multiply the string by the number of times we would like to replicate it. In this case, the number is three. The result is a new string, and this new string consists of three copies of the original string:"
            ],
            "metadata": {
                "azdata_cell_guid": "f96f2419-5e32-48c9-a163-7d8c35d03e38"
            }
        },
        {
            "cell_type": "code",
            "source": [
                "# Print the string for 3 times\n",
                "\n",
                "3 * \"Michael Jackson\""
            ],
            "metadata": {
                "collapsed": false,
                "azdata_cell_guid": "2a8656fb-6b83-477b-a6ce-072cc037950e"
            },
            "outputs": [
                {
                    "data": {
                        "text/plain": "'Michael JacksonMichael JacksonMichael Jackson'"
                    },
                    "metadata": {},
                    "execution_count": 25,
                    "output_type": "execute_result"
                }
            ],
            "execution_count": 25
        },
        {
            "cell_type": "markdown",
            "source": [
                "You can create a new string by setting it to the original variable. Concatenated  with a new string, the result is a new string that changes from Michael Jackson to “Michael Jackson is the best\".\n"
            ],
            "metadata": {
                "azdata_cell_guid": "7e86fb24-84a9-4374-8297-bfe0d55cd135"
            }
        },
        {
            "cell_type": "code",
            "source": [
                "# Concatenate strings\n",
                "\n",
                "Name = \"Michael Jackson\"\n",
                "Name = Name + \" is the best\"\n",
                "Name"
            ],
            "metadata": {
                "collapsed": false,
                "azdata_cell_guid": "34f6d93d-d9b4-4e86-b533-d081736211a3"
            },
            "outputs": [
                {
                    "data": {
                        "text/plain": "'Michael Jackson is the best'"
                    },
                    "metadata": {},
                    "execution_count": 26,
                    "output_type": "execute_result"
                }
            ],
            "execution_count": 26
        },
        {
            "cell_type": "markdown",
            "source": [
                "<hr>"
            ],
            "metadata": {
                "azdata_cell_guid": "7062c005-9420-4d77-be14-da984841fb10"
            }
        },
        {
            "cell_type": "markdown",
            "source": [
                "<h2 id=\"escape\">Escape Sequences</h2>"
            ],
            "metadata": {
                "azdata_cell_guid": "e40484f9-b7d9-4740-9ac8-f7aefde1d2d6"
            }
        },
        {
            "cell_type": "markdown",
            "source": [
                "Back slashes represent the beginning  of escape sequences. Escape sequences represent strings that may be difficult to input. For example, back slash \"n\" represents a new line. The output is given by a new line after the back slash \"n\" is encountered:"
            ],
            "metadata": {
                "azdata_cell_guid": "fd82dff5-a770-431e-9072-c7d96ac01125"
            }
        },
        {
            "cell_type": "code",
            "source": [
                "# New line escape sequence\n",
                "\n",
                "print(\" Michael Jackson \\n is the best\" )"
            ],
            "metadata": {
                "collapsed": false,
                "azdata_cell_guid": "bfa3124a-8dd5-4bef-be1d-bccdf90b3a3e"
            },
            "outputs": [
                {
                    "name": "stdout",
                    "text": " Michael Jackson \n is the best\n",
                    "output_type": "stream"
                }
            ],
            "execution_count": 27
        },
        {
            "cell_type": "markdown",
            "source": [
                "Similarly, back slash  \"t\" represents a tab: "
            ],
            "metadata": {
                "azdata_cell_guid": "0edc4ad6-c7b7-410c-922d-5e14868e476b"
            }
        },
        {
            "cell_type": "code",
            "source": [
                "# Tab escape sequence\n",
                "\n",
                "print(\" Michael Jackson \\t is the best\" )"
            ],
            "metadata": {
                "collapsed": false,
                "azdata_cell_guid": "174c05f8-464f-4ddc-87f5-ef6809ffd5ad"
            },
            "outputs": [
                {
                    "name": "stdout",
                    "text": " Michael Jackson \t is the best\n",
                    "output_type": "stream"
                }
            ],
            "execution_count": 28
        },
        {
            "cell_type": "markdown",
            "source": [
                " If you want to place a back slash in your string, use a double back slash:"
            ],
            "metadata": {
                "azdata_cell_guid": "58388e63-1b62-4a9d-8e1a-5fd5206ad1b3"
            }
        },
        {
            "cell_type": "code",
            "source": [
                "# Include back slash in string\n",
                "\n",
                "print(\" Michael Jackson \\\\ is the best\" )"
            ],
            "metadata": {
                "collapsed": false,
                "azdata_cell_guid": "9d302ab6-20e9-4f49-b071-a3c9388b7f8e"
            },
            "outputs": [
                {
                    "name": "stdout",
                    "text": " Michael Jackson \\ is the best\n",
                    "output_type": "stream"
                }
            ],
            "execution_count": 29
        },
        {
            "cell_type": "markdown",
            "source": [
                " We can also place an \"r\" before the string to display the backslash:"
            ],
            "metadata": {
                "azdata_cell_guid": "a9f8c88b-5722-44e4-b3fa-fdd309765aa8"
            }
        },
        {
            "cell_type": "code",
            "source": [
                "# r will tell python that string will be display as raw string\n",
                "\n",
                "print(r\" Michael Jackson \\ is the best\" )"
            ],
            "metadata": {
                "collapsed": false,
                "azdata_cell_guid": "de7da5d9-4273-41e2-8ab2-38d5ae1f1948"
            },
            "outputs": [
                {
                    "name": "stdout",
                    "text": " Michael Jackson \\ is the best\n",
                    "output_type": "stream"
                }
            ],
            "execution_count": 30
        },
        {
            "cell_type": "markdown",
            "source": [
                "<hr>"
            ],
            "metadata": {
                "azdata_cell_guid": "5450c33a-7d36-4d33-8471-40db4f9d48a3"
            }
        },
        {
            "cell_type": "markdown",
            "source": [
                "<h2 id=\"operations\">String Operations</h2>"
            ],
            "metadata": {
                "azdata_cell_guid": "eba2daa0-69a4-426b-92b6-ac8ccdb125cd"
            }
        },
        {
            "cell_type": "markdown",
            "source": [
                "There are many string operation methods in Python that can be used to manipulate the data. We are going to use some basic string operations on the data. "
            ],
            "metadata": {
                "azdata_cell_guid": "de82594b-fd38-4fee-8d21-44a2056534c7"
            }
        },
        {
            "cell_type": "markdown",
            "source": [
                "Let's try with the method <code>upper</code>; this method converts lower case characters to upper case characters:"
            ],
            "metadata": {
                "azdata_cell_guid": "135cd082-0437-479b-bc0c-ec386efffa81"
            }
        },
        {
            "cell_type": "code",
            "source": [
                "# Convert all the characters in string to upper case\n",
                "\n",
                "A = \"Thriller is the sixth studio album\"\n",
                "print(\"before upper:\", A)\n",
                "B = A.upper()\n",
                "print(\"After upper:\", B)"
            ],
            "metadata": {
                "collapsed": false,
                "azdata_cell_guid": "fceb94c9-6f54-469b-a594-590e0b779566"
            },
            "outputs": [
                {
                    "name": "stdout",
                    "text": "before upper: Thriller is the sixth studio album\nAfter upper: THRILLER IS THE SIXTH STUDIO ALBUM\n",
                    "output_type": "stream"
                }
            ],
            "execution_count": 31
        },
        {
            "cell_type": "markdown",
            "source": [
                "The method <code>replace</code> replaces a segment of the string, i.e. a substring  with a new string. We input the part of the string we would like to change. The second argument is what we would like to exchange the segment with, and the result is a new string with the segment changed: \n"
            ],
            "metadata": {
                "azdata_cell_guid": "6ad2e5a4-6226-4b63-a53b-49be87ab2c8d"
            }
        },
        {
            "cell_type": "code",
            "source": [
                "# Replace the old substring with the new target substring is the segment has been found in the string\n",
                "\n",
                "A = \"Michael Jackson is the best\"\n",
                "B = A.replace('Michael', 'Janet')\n",
                "B"
            ],
            "metadata": {
                "collapsed": false,
                "azdata_cell_guid": "64fb0117-61b8-4b16-8ccd-af9003fe3129"
            },
            "outputs": [
                {
                    "data": {
                        "text/plain": "'Janet Jackson is the best'"
                    },
                    "metadata": {},
                    "execution_count": 32,
                    "output_type": "execute_result"
                }
            ],
            "execution_count": 32
        },
        {
            "cell_type": "markdown",
            "source": [
                "The method <code>find</code> finds a sub-string. The argument is the substring you would like to find, and the output is the first index of the sequence. We can find the sub-string <code>jack</code> or <code>el<code>.  "
            ],
            "metadata": {
                "azdata_cell_guid": "3e32f180-0869-429f-b4e4-862ba4e74ad0"
            }
        },
        {
            "cell_type": "markdown",
            "source": [
                "<img src=\"https://s3-api.us-geo.objectstorage.softlayer.net/cf-courses-data/CognitiveClass/PY0101EN/Chapter%201/Images/StringsFind.png\" width=\"600\" align=\"center\" />"
            ],
            "metadata": {
                "azdata_cell_guid": "a6f72227-0ccd-46b1-8f96-256fef718ea9"
            }
        },
        {
            "cell_type": "code",
            "source": [
                "# Find the substring in the string. Only the index of the first elment of substring in string will be the output\n",
                "\n",
                "Name = \"Michael Jackson\"\n",
                "Name.find('el')"
            ],
            "metadata": {
                "collapsed": false,
                "azdata_cell_guid": "3f8d7622-13bd-4b2a-b23a-ffb3bc4ca052"
            },
            "outputs": [
                {
                    "data": {
                        "text/plain": "5"
                    },
                    "metadata": {},
                    "execution_count": 36,
                    "output_type": "execute_result"
                }
            ],
            "execution_count": 36
        },
        {
            "cell_type": "code",
            "source": [
                "# Find the substring in the string.\n",
                "\n",
                "Name.find('Jack')"
            ],
            "metadata": {
                "collapsed": false,
                "azdata_cell_guid": "ecaa8c72-418a-474f-92c0-c97ef054cca2"
            },
            "outputs": [
                {
                    "data": {
                        "text/plain": "8"
                    },
                    "metadata": {},
                    "execution_count": 37,
                    "output_type": "execute_result"
                }
            ],
            "execution_count": 37
        },
        {
            "cell_type": "markdown",
            "source": [
                "If the  sub-string is not in the string then the output is a negative one. For example, the string 'Jasdfasdasdf' is not a substring:"
            ],
            "metadata": {
                "azdata_cell_guid": "08bd7cc4-57ae-4a73-bd77-d80408bba3be"
            }
        },
        {
            "cell_type": "code",
            "source": [
                "# If cannot find the substring in the string\n",
                "\n",
                "Name.find('Jasdfasdasdf')"
            ],
            "metadata": {
                "collapsed": true,
                "azdata_cell_guid": "763f923e-9a5e-4d99-be43-52792a6ab53f"
            },
            "outputs": [
                {
                    "data": {
                        "text/plain": "-1"
                    },
                    "metadata": {},
                    "execution_count": 38,
                    "output_type": "execute_result"
                }
            ],
            "execution_count": 38
        },
        {
            "cell_type": "markdown",
            "source": [
                "<hr>"
            ],
            "metadata": {
                "azdata_cell_guid": "6117d3eb-b416-4309-86dd-c8cc37b21e2c"
            }
        },
        {
            "cell_type": "markdown",
            "source": [
                "<h2 id=\"quiz\">Quiz on Strings</h2>"
            ],
            "metadata": {
                "azdata_cell_guid": "54e77282-a170-406e-a6c1-ec96f9b2415b"
            }
        },
        {
            "cell_type": "markdown",
            "source": [
                "What is the value of the variable <code>A</code> after the following code is executed? "
            ],
            "metadata": {
                "azdata_cell_guid": "de1e6b5c-c253-467a-aa5a-bfe06effd94b"
            }
        },
        {
            "cell_type": "code",
            "source": [
                "# Write your code below and press Shift+Enter to execute \n",
                "\n",
                "A = \"1\"\n",
                "\"1\""
            ],
            "metadata": {
                "collapsed": true,
                "azdata_cell_guid": "9d265efd-1e06-4f13-a731-08dc93a66749"
            },
            "outputs": [
                {
                    "data": {
                        "text/plain": "'1'"
                    },
                    "metadata": {},
                    "execution_count": 41,
                    "output_type": "execute_result"
                }
            ],
            "execution_count": 41
        },
        {
            "cell_type": "markdown",
            "source": [
                "Double-click <b>here</b> for the solution.\n",
                "\n",
                "<!-- Your answer is below:\n",
                "\"1\"\n",
                "-->"
            ],
            "metadata": {
                "azdata_cell_guid": "863bc3a9-0512-40d4-be06-436ee7bb2a4d"
            }
        },
        {
            "cell_type": "markdown",
            "source": [
                "What is the value of the variable <code>B</code> after the following code is executed?"
            ],
            "metadata": {
                "azdata_cell_guid": "7def3c95-ed60-4b6a-bceb-9ca507043870"
            }
        },
        {
            "cell_type": "code",
            "source": [
                "# Write your code below and press Shift+Enter to execute\n",
                "\n",
                "B = \"2\"\n",
                "\"2\""
            ],
            "metadata": {
                "collapsed": true,
                "azdata_cell_guid": "7412e68b-b9bc-44d1-89eb-4bfdf841172c"
            },
            "outputs": [
                {
                    "data": {
                        "text/plain": "'2'"
                    },
                    "metadata": {},
                    "execution_count": 42,
                    "output_type": "execute_result"
                }
            ],
            "execution_count": 42
        },
        {
            "cell_type": "markdown",
            "source": [
                "Double-click <b>here</b> for the solution.\n",
                "\n",
                "<!-- Your answer is below:\n",
                "\"2\"\n",
                "-->"
            ],
            "metadata": {
                "azdata_cell_guid": "24a07c20-27b8-48cd-af0f-56e1a2d30b07"
            }
        },
        {
            "cell_type": "markdown",
            "source": [
                "What is the value of the variable <code>C</code> after the following code is executed?"
            ],
            "metadata": {
                "azdata_cell_guid": "a0fd432e-59bb-4f87-b9a9-27e27e81eb2d"
            }
        },
        {
            "cell_type": "code",
            "source": [
                "# Write your code below and press Shift+Enter to execute \n",
                "\n",
                "C = A + B\n",
                "\"12\""
            ],
            "metadata": {
                "collapsed": false,
                "azdata_cell_guid": "d30a3fa2-c7cc-44dd-a1d9-6780fd1bfbb3"
            },
            "outputs": [
                {
                    "data": {
                        "text/plain": "'12'"
                    },
                    "metadata": {},
                    "execution_count": 44,
                    "output_type": "execute_result"
                }
            ],
            "execution_count": 44
        },
        {
            "cell_type": "markdown",
            "source": [
                "Double-click <b>here</b> for the solution.\n",
                "\n",
                "<!-- Your answer is below:\n",
                "\"12\"\n",
                "-->"
            ],
            "metadata": {
                "azdata_cell_guid": "5b2a73bc-cca0-4c17-9dc9-e038068b669e"
            }
        },
        {
            "cell_type": "markdown",
            "source": [
                "<hr>"
            ],
            "metadata": {
                "azdata_cell_guid": "7a8c7a02-dfd0-4bda-9c40-450b06550948"
            }
        },
        {
            "cell_type": "markdown",
            "source": [
                "Consider the variable <code>D</code> use slicing to print out the first three elements:"
            ],
            "metadata": {
                "azdata_cell_guid": "970cee42-9e73-4757-92c3-d613d435d3e7"
            }
        },
        {
            "cell_type": "code",
            "source": [
                "# Write your code below and press Shift+Enter to execute\n",
                "\n",
                "D = \"ABCDEFG\"\n",
                "D[0:3]"
            ],
            "metadata": {
                "collapsed": false,
                "azdata_cell_guid": "fe413e6f-6199-4c94-9980-c6850186a08b"
            },
            "outputs": [
                {
                    "data": {
                        "text/plain": "'ABC'"
                    },
                    "metadata": {},
                    "execution_count": 45,
                    "output_type": "execute_result"
                }
            ],
            "execution_count": 45
        },
        {
            "cell_type": "markdown",
            "source": [
                "Double-click <b>here</b> for the solution.\n",
                "\n",
                "<!-- Your answer is below:\n",
                "print(D[:3]) \n",
                "# or \n",
                "print(D[0:3])\n",
                "-->"
            ],
            "metadata": {
                "azdata_cell_guid": "5edeb8b5-7936-46fe-afd8-6d79f73f2e30"
            }
        },
        {
            "cell_type": "markdown",
            "source": [
                "<hr>"
            ],
            "metadata": {
                "azdata_cell_guid": "633c9926-3cfb-4713-9e1d-b11f2d31a31e"
            }
        },
        {
            "cell_type": "markdown",
            "source": [
                "Use a stride value of 2 to print out every second character of the string <code>E</code>: "
            ],
            "metadata": {
                "azdata_cell_guid": "ee235ceb-edb7-4701-8f8a-cd75338096f3"
            }
        },
        {
            "cell_type": "code",
            "source": [
                "# Write your code below and press Shift+Enter to execute\n",
                "\n",
                "E = 'clocrkr1e1c1t'\n",
                "E[::2]"
            ],
            "metadata": {
                "collapsed": true,
                "azdata_cell_guid": "69f940cf-d994-453a-a05d-16bf376a3903"
            },
            "outputs": [
                {
                    "data": {
                        "text/plain": "'correct'"
                    },
                    "metadata": {},
                    "execution_count": 46,
                    "output_type": "execute_result"
                }
            ],
            "execution_count": 46
        },
        {
            "cell_type": "markdown",
            "source": [
                "Double-click <b>here</b> for the solution.\n",
                "\n",
                "<!-- Your answer is below:\n",
                "print(E[::2])\n",
                "-->"
            ],
            "metadata": {
                "azdata_cell_guid": "7160b530-7869-4bd0-bbd5-87141cf5f10a"
            }
        },
        {
            "cell_type": "markdown",
            "source": [
                "<hr>"
            ],
            "metadata": {
                "azdata_cell_guid": "bfdecc87-e73c-411a-b2ea-d1bf3e12cd29"
            }
        },
        {
            "cell_type": "markdown",
            "source": [
                "Print out a backslash:"
            ],
            "metadata": {
                "azdata_cell_guid": "40004f6a-8769-4540-b555-7b0ae666e928"
            }
        },
        {
            "cell_type": "code",
            "source": [
                "# Write your code below and press Shift+Enter to execute\r\n",
                "\r\n",
                "print(r\" \\ \")"
            ],
            "metadata": {
                "collapsed": false,
                "azdata_cell_guid": "b3e56e75-345e-4792-bca3-86c07009514d"
            },
            "outputs": [
                {
                    "name": "stdout",
                    "text": " \\ \n",
                    "output_type": "stream"
                }
            ],
            "execution_count": 48
        },
        {
            "cell_type": "markdown",
            "source": [
                "Double-click <b>here</b> for the solution.\n",
                "<!-- Your answer is below:\n",
                "print(\"\\\\\")\n",
                "or\n",
                "print(r\" \\ \")\n",
                "-->"
            ],
            "metadata": {
                "azdata_cell_guid": "fd82e2ba-1950-463c-883b-c491272731f6"
            }
        },
        {
            "cell_type": "markdown",
            "source": [
                "<hr>"
            ],
            "metadata": {
                "azdata_cell_guid": "a7e67f93-2162-420e-86bc-b404b53a5303"
            }
        },
        {
            "cell_type": "markdown",
            "source": [
                "Convert the variable <code>F</code> to uppercase:"
            ],
            "metadata": {
                "azdata_cell_guid": "3f41e173-ce0e-4d82-a996-fd0ae9c6aaad"
            }
        },
        {
            "cell_type": "code",
            "source": [
                "# Write your code below and press Shift+Enter to execute\n",
                "\n",
                "F = \"You are wrong\"\n",
                "print(F.upper())"
            ],
            "metadata": {
                "collapsed": false,
                "azdata_cell_guid": "62647586-2cc9-44d8-94d1-1a29650c7951"
            },
            "outputs": [
                {
                    "name": "stdout",
                    "text": "YOU ARE WRONG\n",
                    "output_type": "stream"
                }
            ],
            "execution_count": 50
        },
        {
            "cell_type": "markdown",
            "source": [
                "Double-click <b>here</b> for the solution.\n",
                "\n",
                "<!-- Your answer is below:\n",
                "F.upper()\n",
                "-->"
            ],
            "metadata": {
                "azdata_cell_guid": "e96adab0-1ba1-4093-b48f-33119440903d"
            }
        },
        {
            "cell_type": "markdown",
            "source": [
                "<hr>"
            ],
            "metadata": {
                "azdata_cell_guid": "f9514bca-bd9d-41c7-8103-d922d28217c8"
            }
        },
        {
            "cell_type": "markdown",
            "source": [
                "Consider the variable <code>G</code>, and find the first index of the sub-string <code>snow</code>:"
            ],
            "metadata": {
                "azdata_cell_guid": "1cf93d47-06d7-4da3-afdd-675fff22531c"
            }
        },
        {
            "cell_type": "code",
            "source": [
                "# Write your code below and press Shift+Enter to execute\n",
                "\n",
                "G = \"Mary had a little lamb Little lamb, little lamb Mary had a little lamb \\\n",
                "Its fleece was white as snow And everywhere that Mary went Mary went, Mary went \\\n",
                "Everywhere that Mary went The lamb was sure to go\"\n",
                "\n",
                "print(G.find(\"snow\"))"
            ],
            "metadata": {
                "collapsed": false,
                "azdata_cell_guid": "4913af6b-7278-4b77-9a62-1bac26778fdd"
            },
            "outputs": [
                {
                    "name": "stdout",
                    "text": "95\n",
                    "output_type": "stream"
                }
            ],
            "execution_count": 51
        },
        {
            "cell_type": "markdown",
            "source": [
                "Double-click __here__ for the solution.\n",
                "\n",
                "<!-- Your answer is below:\n",
                "G.find(\"snow\")\n",
                "-->"
            ],
            "metadata": {
                "azdata_cell_guid": "9d7015bd-5f3d-4141-9ac5-66ddd6fc7454"
            }
        },
        {
            "cell_type": "markdown",
            "source": [
                "In the variable <code>G</code>, replace the sub-string <code>Mary</code> with <code>Bob</code>:"
            ],
            "metadata": {
                "azdata_cell_guid": "395db499-c1ab-46bb-a61f-102715659020"
            }
        },
        {
            "cell_type": "code",
            "source": [
                "# Write your code below and press Shift+Enter to execute\r\n",
                "G.replace(\"Mary\", \"Bob\")"
            ],
            "metadata": {
                "collapsed": false,
                "azdata_cell_guid": "7e1476ce-8282-4e6f-a337-07175367f0b6"
            },
            "outputs": [
                {
                    "data": {
                        "text/plain": "'Bob had a little lamb Little lamb, little lamb Bob had a little lamb Its fleece was white as snow And everywhere that Bob went Bob went, Bob went Everywhere that Bob went The lamb was sure to go'"
                    },
                    "metadata": {},
                    "execution_count": 52,
                    "output_type": "execute_result"
                }
            ],
            "execution_count": 52
        },
        {
            "cell_type": "markdown",
            "source": [
                "Double-click __here__ for the solution.\n",
                "\n",
                "<!-- Your answer is below:\n",
                "G.replace(\"Mary\", \"Bob\")\n",
                "-->"
            ],
            "metadata": {
                "azdata_cell_guid": "bf6b3cd1-7d85-4a8f-843f-7150d040b795"
            }
        },
        {
            "cell_type": "markdown",
            "source": [
                "<hr>\n",
                "<h2>The last exercise!</h2>\n",
                "<p>Congratulations, you have completed your first lesson and hands-on lab in Python. However, there is one more thing you need to do. The Data Science community encourages sharing work. The best way to share and showcase your work is to share it on GitHub. By sharing your notebook on GitHub you are not only building your reputation with fellow data scientists, but you can also show it off when applying for a job. Even though this was your first piece of work, it is never too early to start building good habits. So, please read and follow <a href=\"https://cognitiveclass.ai/blog/data-scientists-stand-out-by-sharing-your-notebooks/\" target=\"_blank\">this article</a> to learn how to share your work.\n",
                "<hr>"
            ],
            "metadata": {
                "azdata_cell_guid": "38fbbeb2-71a1-47bc-a941-9fcfb01ae240"
            }
        },
        {
            "cell_type": "markdown",
            "source": [
                "<div class=\"alert alert-block alert-info\" style=\"margin-top: 20px\">\n",
                "<h2>Get IBM Watson Studio free of charge!</h2>\n",
                "    <p><a href=\"https://cocl.us/PY0101EN_edx_add_bbottom\"><img src=\"https://s3-api.us-geo.objectstorage.softlayer.net/cf-courses-data/CognitiveClass/PY0101EN/Ad/BottomAd.png\" width=\"750\" align=\"center\"></a></p>\n",
                "</div>"
            ],
            "metadata": {
                "azdata_cell_guid": "22f26134-e4d9-4e58-9758-45a7880dd848"
            }
        },
        {
            "cell_type": "markdown",
            "source": [
                "<h3>About the Authors:</h3>  \n",
                "<p><a href=\"https://www.linkedin.com/in/joseph-s-50398b136/\" target=\"_blank\">Joseph Santarcangelo</a> is a Data Scientist at IBM, and holds a PhD in Electrical Engineering. His research focused on using Machine Learning, Signal Processing, and Computer Vision to determine how videos impact human cognition. Joseph has been working for IBM since he completed his PhD.</p>"
            ],
            "metadata": {
                "azdata_cell_guid": "2a5f4711-443b-433d-a807-d41e61ff2ccc"
            }
        },
        {
            "cell_type": "markdown",
            "source": [
                "Other contributors: <a href=\"www.linkedin.com/in/jiahui-mavis-zhou-a4537814a\">Mavis Zhou</a>"
            ],
            "metadata": {
                "azdata_cell_guid": "b23f84ad-1835-41bd-8fa4-9105124ebf9e"
            }
        },
        {
            "cell_type": "markdown",
            "source": [
                "<hr>\n",
                "<p>Copyright &copy; 2018 IBM Developer Skills Network. This notebook and its source code are released under the terms of the <a href=\"https://cognitiveclass.ai/mit-license/\">MIT License</a>.</p>"
            ],
            "metadata": {
                "azdata_cell_guid": "640734d9-f1d9-4793-9aca-64c4ad95b8ff"
            }
        }
    ]
}