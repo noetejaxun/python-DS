{
    "metadata": {
        "kernelspec": {
            "name": "python3",
            "display_name": "Python 3"
        },
        "language_info": {
            "name": "python",
            "version": "3.7.4",
            "mimetype": "text/x-python",
            "codemirror_mode": {
                "name": "ipython",
                "version": 3
            },
            "pygments_lexer": "ipython3",
            "nbconvert_exporter": "python",
            "file_extension": ".py"
        }
    },
    "nbformat_minor": 2,
    "nbformat": 4,
    "cells": [
        {
            "cell_type": "markdown",
            "source": [
                "# Strings\r\n",
                "Each string can be acces by index position.\r\n",
                "\r\n",
                "## e.g.\r\n",
                "|M|i|c|h|a|e|l|\r\n",
                "|:-:|:-:|:-:|:-:|:-:|:-:|:-:|\r\n",
                "|0|1|2|3|4|5|6|\r\n",
                "\r\n",
                ""
            ],
            "metadata": {
                "azdata_cell_guid": "80cf69a2-84f5-439a-a1ed-03f8524e8526"
            }
        },
        {
            "cell_type": "code",
            "source": [
                "\"Michael\"[1]"
            ],
            "metadata": {
                "azdata_cell_guid": "1679c1cc-a1e7-4138-a7d5-01f4bc37839d"
            },
            "outputs": [
                {
                    "data": {
                        "text/plain": "'i'"
                    },
                    "metadata": {},
                    "execution_count": 2,
                    "output_type": "execute_result"
                }
            ],
            "execution_count": 2
        },
        {
            "cell_type": "markdown",
            "source": [
                "If we want to get the last character, only pass -1 on the brackets, and string change to negative indexed.\r\n",
                "## e.g.\r\n",
                "|M|i|c|h|a|e|l|\r\n",
                "|:-:|:-:|:-:|:-:|:-:|:-:|:-:|\r\n",
                "|-7|-6|-5|-4|-3|-2|-1|"
            ],
            "metadata": {
                "azdata_cell_guid": "aa22f930-ea88-4270-8e6a-fb628ade4afd"
            }
        },
        {
            "cell_type": "code",
            "source": [
                "\"Michael\"[-1]"
            ],
            "metadata": {
                "azdata_cell_guid": "b18c484e-fa4a-459f-bc95-1261f6f83181"
            },
            "outputs": [
                {
                    "data": {
                        "text/plain": "'l'"
                    },
                    "metadata": {},
                    "execution_count": 3,
                    "output_type": "execute_result"
                }
            ],
            "execution_count": 3
        },
        {
            "cell_type": "markdown",
            "source": [
                "# Slicing\r\n",
                "To get a substring from a string, only pass the initial position followed by a (colon) \":\" and then las position.\r\n",
                "\r\n",
                "## e.g."
            ],
            "metadata": {
                "azdata_cell_guid": "252a210d-9925-413f-bfe9-a6a4cdb26f7a"
            }
        },
        {
            "cell_type": "code",
            "source": [
                "name = \"Michael Jackson \"\r\n",
                "len_name = len(name)\r\n",
                "\r\n",
                "print(name[0:7])\r\n",
                "print(name[8:len_name])\r\n",
                ""
            ],
            "metadata": {
                "azdata_cell_guid": "60d1c847-aedf-4ef9-93f0-da6be5e8bd61"
            },
            "outputs": [
                {
                    "name": "stdout",
                    "text": "Michael\nJackson \n",
                    "output_type": "stream"
                }
            ],
            "execution_count": 18
        },
        {
            "cell_type": "markdown",
            "source": [
                "# Stride values\r\n",
                "\r\n",
                "To show only the pair indexes of a string\r\n",
                "## e.g."
            ],
            "metadata": {
                "azdata_cell_guid": "47ba6e19-9986-4882-960a-bcc80778e695"
            }
        },
        {
            "cell_type": "code",
            "source": [
                "name = \"Michael Jackson\"\r\n",
                "name[::2]"
            ],
            "metadata": {
                "azdata_cell_guid": "8d26f3b5-2465-48e9-b33d-d062ffa42ca6"
            },
            "outputs": [
                {
                    "data": {
                        "text/plain": "'McalJcsn'"
                    },
                    "metadata": {},
                    "execution_count": 20,
                    "output_type": "execute_result"
                }
            ],
            "execution_count": 20
        },
        {
            "cell_type": "markdown",
            "source": [
                "# Tuples\r\n",
                "To multiply a string many times, only use the \"*\" multiplication operator.\r\n",
                "## e.g."
            ],
            "metadata": {
                "azdata_cell_guid": "30b8e419-9147-451b-b979-a76854cf7b04"
            }
        },
        {
            "cell_type": "code",
            "source": [
                "3*\"Luis \""
            ],
            "metadata": {
                "azdata_cell_guid": "a37b9056-380a-4f26-9c67-13758a6ba44e"
            },
            "outputs": [
                {
                    "data": {
                        "text/plain": "'Luis Luis Luis '"
                    },
                    "metadata": {},
                    "execution_count": 21,
                    "output_type": "execute_result"
                }
            ],
            "execution_count": 21
        },
        {
            "cell_type": "markdown",
            "source": [
                "# Properties of a string\r\n",
                "Strings are inmutable, that means we can't change the value from an index porition.\r\n",
                "## e.g.\r\n",
                ""
            ],
            "metadata": {
                "azdata_cell_guid": "d851689a-3a25-490d-bf5f-23967e1a7790"
            }
        },
        {
            "cell_type": "code",
            "source": [
                "name = \"Luis\"\r\n",
                "name[0] = \"A\""
            ],
            "metadata": {
                "azdata_cell_guid": "0d758f8b-2534-47c4-9451-22e57f7f52a4"
            },
            "outputs": [
                {
                    "traceback": [
                        "\u001b[1;31m---------------------------------------------------------------------------\u001b[0m",
                        "\u001b[1;31mTypeError\u001b[0m                                 Traceback (most recent call last)",
                        "\u001b[1;32m<ipython-input-22-5c536b8dba8f>\u001b[0m in \u001b[0;36m<module>\u001b[1;34m\u001b[0m\n\u001b[0;32m      1\u001b[0m \u001b[0mname\u001b[0m \u001b[1;33m=\u001b[0m \u001b[1;34m\"Luis\"\u001b[0m\u001b[1;33m\u001b[0m\u001b[1;33m\u001b[0m\u001b[0m\n\u001b[1;32m----> 2\u001b[1;33m \u001b[0mname\u001b[0m\u001b[1;33m[\u001b[0m\u001b[1;36m0\u001b[0m\u001b[1;33m]\u001b[0m \u001b[1;33m=\u001b[0m \u001b[1;34m\"A\"\u001b[0m\u001b[1;33m\u001b[0m\u001b[1;33m\u001b[0m\u001b[0m\n\u001b[0m",
                        "\u001b[1;31mTypeError\u001b[0m: 'str' object does not support item assignment"
                    ],
                    "ename": "TypeError",
                    "evalue": "'str' object does not support item assignment",
                    "output_type": "error"
                }
            ],
            "execution_count": 22
        },
        {
            "cell_type": "markdown",
            "source": [
                "# Escape sequences\r\n",
                "* \\ are meant to proceed escape sequences\r\n",
                "* Escape sequencesa are strings that are difficult to input\r\n",
                "## e.g.\r\n",
                "<b>\\n</b> New line  \\\r\n",
                "<b>\\t</b> Tabulation"
            ],
            "metadata": {
                "azdata_cell_guid": "390be45b-7551-4131-a7a2-ea77ece5d11d"
            }
        },
        {
            "cell_type": "code",
            "source": [
                "print(\"Michael Jackson \\n is the best\")"
            ],
            "metadata": {
                "azdata_cell_guid": "736c0f7d-e7fc-4d4d-87b6-c220a060bcdf"
            },
            "outputs": [
                {
                    "name": "stdout",
                    "text": "Michael Jackson \n is the best\n",
                    "output_type": "stream"
                }
            ],
            "execution_count": 23
        },
        {
            "cell_type": "markdown",
            "source": [
                "# Methods\r\n",
                "## Replace\r\n",
                "If we want to replace a character or substring on a string, use the replace method to change that.\r\n",
                "## e.g."
            ],
            "metadata": {
                "azdata_cell_guid": "608e4af1-68fb-42c7-bb56-637f0485fbe3"
            }
        },
        {
            "cell_type": "code",
            "source": [
                "A=\"Michael Jackson is the best\"\r\n",
                "B = A.replace(\"Michael\", \"Janeth\")\r\n",
                "B"
            ],
            "metadata": {
                "azdata_cell_guid": "6e7f237c-08b3-464c-9ebe-832616d4cbd7"
            },
            "outputs": [
                {
                    "data": {
                        "text/plain": "'Janeth Jackson is the best'"
                    },
                    "metadata": {},
                    "execution_count": 26,
                    "output_type": "execute_result"
                }
            ],
            "execution_count": 26
        },
        {
            "cell_type": "markdown",
            "source": [
                "## Find\r\n",
                "We can find a character or substring from a string using the find method. This method returns the first index of the sequence.\r\n",
                "## e.g."
            ],
            "metadata": {
                "azdata_cell_guid": "d0848cf0-7537-4a15-9f47-cbadd15ae7d7"
            }
        },
        {
            "cell_type": "code",
            "source": [
                "name = \"Michael Jacskson\"\r\n",
                "name.find(\"el\")"
            ],
            "metadata": {
                "azdata_cell_guid": "f5df0361-1a52-4c2c-adcc-d5022f0d7fb5"
            },
            "outputs": [
                {
                    "data": {
                        "text/plain": "5"
                    },
                    "metadata": {},
                    "execution_count": 28,
                    "output_type": "execute_result"
                }
            ],
            "execution_count": 28
        }
    ]
}