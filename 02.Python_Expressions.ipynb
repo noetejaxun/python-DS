{
    "metadata": {
        "kernelspec": {
            "name": "python3",
            "display_name": "Python 3"
        },
        "language_info": {
            "name": "python",
            "version": "3.7.4",
            "mimetype": "text/x-python",
            "codemirror_mode": {
                "name": "ipython",
                "version": 3
            },
            "pygments_lexer": "ipython3",
            "nbconvert_exporter": "python",
            "file_extension": ".py"
        }
    },
    "nbformat_minor": 2,
    "nbformat": 4,
    "cells": [
        {
            "cell_type": "markdown",
            "source": [
                "# Expressions\r\n",
                "Expressions describe a type of operations that computers perform.\r\n",
                "\r\n",
                "## Basic Mathematical operations\r\n",
                "Sum **+** \\\r\n",
                "```python\r\n",
                "43 + 60 + 16 + 41 = 160\r\n",
                "```\r\n",
                "Substraction **.** \\\r\n",
                "```python\r\n",
                "50 - 40\r\n",
                "```\r\n",
                "Multiplication **\\*** \\\r\n",
                "```python\r\n",
                "10 * 40\r\n",
                "```\r\n",
                "Division **/** \\\r\n",
                "```python\r\n",
                "40 / 21\r\n",
                "```\r\n",
                "\r\n",
                ""
            ],
            "metadata": {
                "azdata_cell_guid": "8708de20-9b1b-40dc-af2b-f7e96428ac6f"
            }
        },
        {
            "cell_type": "code",
            "source": [
                "print('Sum = ' + str( 43 + 60 + 16 + 41) )\r\n",
                "print('Substraction = ' + str(50 - 50))\r\n",
                "print('Multiplication = ' + str(10 * 40))\r\n",
                "print('Division = ' + str(40 / 21))"
            ],
            "metadata": {
                "azdata_cell_guid": "d9ce2def-c887-4ad4-98e8-e8043ea36a9c"
            },
            "outputs": [
                {
                    "name": "stdout",
                    "text": "Sum = 160\nSubstraction = 0\nMultiplication = 400\nDivision = 1.9047619047619047\n",
                    "output_type": "stream"
                }
            ],
            "execution_count": 9
        },
        {
            "cell_type": "markdown",
            "source": [
                "# Variables\r\n",
                "A variable is a space on memory to store a single value.\r\n",
                "```python\r\n",
                "x = 60\r\n",
                "```"
            ],
            "metadata": {
                "azdata_cell_guid": "4c1ce7db-a7a2-4a81-8dee-91438a4846c0"
            }
        },
        {
            "cell_type": "code",
            "source": [
                "total_seconds_per_minute = 60\r\n",
                "total_seconds_per_hour = total_seconds_per_minute * 60\r\n",
                "total_seconds_per_day = total_seconds_per_hour * 24\r\n",
                "total_seconds_per_year = total_seconds_per_day * 365\r\n",
                "print('Total seconds per year ' + str(total_seconds_per_year))"
            ],
            "metadata": {
                "azdata_cell_guid": "c53590a8-27fa-44ec-b0e5-ba0e8fef2d3f"
            },
            "outputs": [
                {
                    "name": "stdout",
                    "text": "Total seconds per year 31536000\n",
                    "output_type": "stream"
                }
            ],
            "execution_count": 17
        }
    ]
}